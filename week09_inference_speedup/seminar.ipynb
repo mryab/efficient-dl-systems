{
  "cells": [
    {
      "cell_type": "markdown",
      "metadata": {
        "id": "AtspjpqElmtO"
      },
      "source": [
        "# Inference Speedup"
      ]
    },
    {
      "cell_type": "markdown",
      "metadata": {
        "id": "wKxd_dT3lmtQ"
      },
      "source": [
        "## Seminar\n"
      ]
    },
    {
      "cell_type": "markdown",
      "metadata": {
        "id": "ICY7yJ3TlmtQ"
      },
      "source": [
        "### Plan\n",
        "\n",
        "- Analyze the proof of distribution preservation in SpecDec + Sampling\n",
        "- Create an introduction to Triton GeMM\n",
        "  - General introduction, comparison with CUDA\n",
        "  - Blocks/Threads vs Program\n",
        "- Show execution times of GeMV, GeMM kernels and their scaling with batch size\n",
        "  - Emphasize the execution time difference between DecodeMany vs Decode (DecodeMany == bs > 1. Almost no difference up to batch size 64 with Decode)\n",
        "- Highlight how autotune affects performance during the decoding step\n"
      ]
    },
    {
      "cell_type": "markdown",
      "metadata": {},
      "source": [
        "### SpecDec + Sampling\n",
        "\n",
        "_Special thanks to Lesha Glikin._"
      ]
    },
    {
      "cell_type": "markdown",
      "metadata": {},
      "source": [
        "Introduction:\n",
        "- We consider one iteration of verification of a single draft token\n",
        "- $V$ - set of all tokens\n",
        "- $p$ - probability function of the target model token ($p: V \\rightarrow [0,1]$)\n",
        "- $q$ - probability function of the draft model token\n",
        "\n",
        "Let's assume the token acceptance procedure works as follows:\n",
        "- Sample token $t_q$ from $q$\n",
        "- Based on the (stochastic!) acceptance procedure, decide whether to accept or reject $t_q$\n",
        "- If rejected, sample a new token from the adjusted distribution of the target model (to be defined later)"
      ]
    },
    {
      "cell_type": "markdown",
      "metadata": {},
      "source": [
        "**Formalization**:\n",
        "\n",
        "- $t_q \\sim q$ - token from the draft model\n",
        "- $t_{\\tilde p} \\sim \\tilde p $ - token from the adjusted distribution of the target model ($\\tilde p$ is unknown yet)\n",
        "- $r \\sim R$ - source of randomness (unknown yet)\n",
        "- $t_q ⫫ t_{\\tilde p } ⫫ r$\n",
        "- $t$ - the final token resulting from the verification step, defined as\n",
        "  $$t = \\begin{cases} t_q,\\ A(t_q, r) \\\\ t_{\\tilde p },\\ \\lnot A(t_q, r) \\end{cases}$$\n",
        "where $A(r, t_q)$ - the event of accepting/rejecting the token."
      ]
    },
    {
      "cell_type": "markdown",
      "metadata": {},
      "source": [
        "**Desirable properties:** we want to find such $\\tilde p, A, R$ that:\n",
        "- $t$ has the same distribution as $p$\n",
        "    - because we want to preserve the distribution of the base model.\n",
        "- $A(r, t_q)$ is maximized\n",
        "    - because we want to maximize the probability of accepting the token."
      ]
    },
    {
      "cell_type": "markdown",
      "metadata": {},
      "source": [
        "Let's understand how the probability function $t$ works:\n",
        "\n",
        "$$ P(t = T) = P(t = T \\wedge A(t_q, r)) + P(t = T \\wedge \\lnot A(t_q, r)) $$\n"
      ]
    },
    {
      "cell_type": "markdown",
      "metadata": {},
      "source": [
        "<details>\n",
        "<summary>What is the first term equivalent to?</summary>\n",
        "\n",
        "-  $t = T \\wedge A(t_q, r)$\n",
        "- Given that the token was accepted, $t = t_q$ (by definition of $t$), so in the left event we can substitute:\n",
        "    -  $\\iff t_q = T \\wedge A(t_q, r)$\n",
        "- Given that $t_q = T$, in the right event we can substitute it:\n",
        "    - $\\iff t_q = T \\wedge A(T, r)$\n",
        "- we now have a conjunction of independent events, therefore\n",
        "    - $P(t_q = T \\wedge A(T, r)) = q(T) \\cdot P(A(T, r))$\n",
        "\n",
        "</details>  "
      ]
    },
    {
      "cell_type": "markdown",
      "metadata": {},
      "source": [
        "<details>\n",
        "<summary>(The same more rigorously, for fans of sigma-algebras)</summary>\n",
        "\n",
        "Consider a probability space $(\\Omega, \\mathcal{F}, P)$. All random variables $t, t_q, t_{\\tilde p}, r, A$ are defined on it. $A(...)$ is a function that takes values 0 and 1.\n",
        "\n",
        "- Consider all $\\omega_0 \\in \\Omega$ such that \n",
        "    - $t(\\omega_0) = T \\wedge A(t_q(\\omega_0), r(\\omega_0)) = 1$.\n",
        "\n",
        "- for all $\\omega_0\\colon A(t_q(\\omega_0), r(\\omega_0)) = 1$, we have $t(\\omega_0) = t_q(\\omega_0)$ -- simply by definition of $t$. Therefore, in the left event we can substitute:\n",
        "    -  $\\iff t_q(\\omega_0) = T \\wedge A(t_q(\\omega_0), r(\\omega_0)) = 1$\n",
        "- on the other hand, for all $\\omega_0$ it is additionally true that $\\colon t(\\omega_0) = T$. But this means that on this subset of omegas, $t_q$ is identically equal to $T$. Therefore, in the right event we can substitute:\n",
        "    - $\\iff t_q(\\omega_0) = T \\wedge A(T, r(\\omega_0)) = 1$\n",
        "- we now have a conjunction of independent events. Consequently, for all $\\omega_0 \\in \\Omega$ such that $t(\\omega_0) = T \\wedge A(t_q(\\omega_0), r(\\omega_0)) = 1$, it holds that:\n",
        "    - $P(t_q = T \\wedge A(T, r)) = q(T) \\cdot P(A(T, r))$\n",
        "\n",
        "</details>  "
      ]
    },
    {
      "cell_type": "markdown",
      "metadata": {},
      "source": [
        "\n",
        "\n",
        "<details>\n",
        "<summary>What is the second term equivalent to?</summary>\n",
        "\n",
        "-  $t = T \\wedge \\lnot A(t_q, r)$\n",
        "- Since the token was not accepted, $t = t_{\\tilde p}$ (again by definition of $t$), so we can substitute\n",
        "    - $\\iff t_{\\tilde p} = T \\wedge \\lnot A(t_q, r)$\n",
        "- we now have a conjunction of independent events\n",
        "    - $P(t_{\\tilde p} = T \\wedge \\lnot A(t_q, r)) = \\tilde p(T) \\cdot \\left( 1 - P(A(t_q, r))\\right)$\n",
        "\n",
        "</details>\n"
      ]
    },
    {
      "cell_type": "markdown",
      "metadata": {},
      "source": [
        "\n",
        "<details>\n",
        "<summary>Overall, the token's probability can be written down as:</summary>\n",
        "\n",
        "   $$P(t = T) = q(T) \\cdot P(A(T, r)) + \\tilde p(T) \\cdot \\left(1 - P(A(t_q, r))\\right)$$\n",
        "\n",
        "</details>\n"
      ]
    },
    {
      "cell_type": "markdown",
      "metadata": {},
      "source": [
        "The requirement that $t \\sim p$ is expressed as:\n",
        "$$\n",
        "\\forall\\ T \\in V,\\ p(t) = P(t = T)\n",
        "$$\n",
        "\n",
        "How do we now express $\\tilde p(t)$?\n",
        "<details>\n",
        "<summary>Answer:</summary>\n",
        "\n",
        "$$\n",
        "\\iff \\forall\\ T \\in V,\\ \\tilde p (T) = \\frac{p(T) - q(T) P(A(T, r))}{1 - P(A(t_q, r))}\n",
        "= \\frac{p(T) - q(T) \\cdot P(A(T, r))}{\\sum_{X \\in V} \\Bigl(p(X) - q(X) \\cdot P(A(X, r))\\Bigr)}\n",
        "$$\n",
        "\n",
        "</details>\n"
      ]
    },
    {
      "cell_type": "markdown",
      "metadata": {},
      "source": [
        "This expression uniquely defines $\\tilde p$ for fixed $A$ and $R$, and we only need the non-negativity of th numerators:\n",
        "$$\n",
        "p(T) - q(T) \\cdot P(A(T, r)) \\geq 0\n",
        "$$\n",
        "<details>\n",
        "<summary>Which is equivalent to:</summary>\n",
        "\n",
        "$$\n",
        "\\begin{align}\n",
        "&P(A(T, r)) \\leq \\frac{p(T)}{q(T)}\n",
        "\\\\\n",
        "\\iff &P(A(T, r)) \\leq \\min\\left(1, \\frac{p(T)}{q(T)}\\right)\n",
        "\\end{align}\n",
        "$$\n",
        "\n",
        "</details>"
      ]
    },
    {
      "cell_type": "markdown",
      "metadata": {},
      "source": [
        "How to choose $A, R$ so that the condition above is satisfied for all $T$, and to maximize $P(A(T, r))$?\n",
        "<details>\n",
        "<summary>Answer:</summary>\n",
        "\n",
        "We can use $R = U[0, 1]$ and $A(T, r) = I\\left(r < \\frac{p(T)}{q(T)}\\right)$.\n",
        "\n",
        "Then let's write out what $\\tilde p$ will be equal to:\n",
        "$$\n",
        "\\tilde p (T) = \\frac{p(T) - q(T) \\cdot P(A(T, r))}{\\sum_{X \\in U} p(X) - q(X) \\cdot P(A(X, r))}\n",
        "= \\frac{p(T) - q(T) \\cdot \\min \\left(1, \\frac{p(T)}{q(T)}\\right)}{\\ldots} = \\frac{\\max\\left(p(T) - q(T), 0\\right)}{\\ldots}\n",
        "$$\n",
        "</details>"
      ]
    },
    {
      "cell_type": "markdown",
      "metadata": {},
      "source": [
        "### Triton GeMM: a bit deeper."
      ]
    },
    {
      "cell_type": "markdown",
      "metadata": {},
      "source": [
        "#### Catch activation and weight"
      ]
    },
    {
      "cell_type": "code",
      "execution_count": 1,
      "metadata": {
        "colab": {
          "base_uri": "https://localhost:8080/"
        },
        "id": "axGKC6hXlmtR",
        "outputId": "553dca24-fd13-411a-a322-e7cb48733b10"
      },
      "outputs": [
        {
          "name": "stdout",
          "output_type": "stream",
          "text": [
            "torch version: 2.5.1+cu124\n",
            "triton version: 3.1.0\n"
          ]
        }
      ],
      "source": [
        "import time\n",
        "from typing import List\n",
        "import os\n",
        "os.environ[\"CUDA_VISIBLE_DEVICES\"] = \"0\"\n",
        "\n",
        "import torch\n",
        "import torch.nn as nn\n",
        "\n",
        "import triton\n",
        "import triton.language as tl\n",
        "\n",
        "print(\"torch version:\", torch.__version__)\n",
        "print(\"triton version:\", triton.__version__)\n",
        "\n",
        "from transformers import AutoModelForCausalLM, AutoTokenizer, TextStreamer"
      ]
    },
    {
      "cell_type": "code",
      "execution_count": 2,
      "metadata": {
        "colab": {
          "base_uri": "https://localhost:8080/",
          "height": 0,
          "referenced_widgets": [
            "61621d16e2cd40c3ad0c6a849a8b8264",
            "6bed81d4616649bd857418a131538f7d",
            "9ffb3a0c0fea4081bf4f7c5e6218758f",
            "3838c3cdee884f6d902e3b5d0d4e4583",
            "7c3c03fa91874ae5ac941ed171eeb3ea",
            "7498bbbbae7048119584dea4a914da0a",
            "6272889cfea04dab834ee1c62817540b",
            "5f922ecfa23c4705a42336c1e79900df",
            "7f1074b6abde4dddb7e50f67dc9a99b3",
            "87caf0f9f3dc4b508d7733e66fde5407",
            "c0e17b91d9b244daaf63f87f4683503e"
          ]
        },
        "id": "UI2qK8TdlmtT",
        "outputId": "23e582d5-f21a-4fd4-b1d9-13470ba365e3"
      },
      "outputs": [
        {
          "name": "stderr",
          "output_type": "stream",
          "text": [
            "/usr/local/lib/python3.11/dist-packages/huggingface_hub/utils/_auth.py:94: UserWarning: \n",
            "The secret `HF_TOKEN` does not exist in your Colab secrets.\n",
            "To authenticate with the Hugging Face Hub, create a token in your settings tab (https://huggingface.co/settings/tokens), set it as secret in your Google Colab and restart your session.\n",
            "You will be able to reuse this secret in all of your notebooks.\n",
            "Please note that authentication is recommended but still optional to access public models or datasets.\n",
            "  warnings.warn(\n"
          ]
        },
        {
          "data": {
            "application/vnd.jupyter.widget-view+json": {
              "model_id": "61621d16e2cd40c3ad0c6a849a8b8264",
              "version_major": 2,
              "version_minor": 0
            },
            "text/plain": [
              "Loading checkpoint shards:   0%|          | 0/2 [00:00<?, ?it/s]"
            ]
          },
          "metadata": {},
          "output_type": "display_data"
        }
      ],
      "source": [
        "model_name = \"Qwen/Qwen2.5-3B-Instruct\"\n",
        "\n",
        "model = AutoModelForCausalLM.from_pretrained(\n",
        "    model_name,\n",
        "    torch_dtype=torch.float16,\n",
        "    device_map=\"auto\"\n",
        ")\n",
        "tokenizer = AutoTokenizer.from_pretrained(model_name)\n",
        "streamer = TextStreamer(tokenizer, skip_prompt=True)"
      ]
    },
    {
      "cell_type": "code",
      "execution_count": 3,
      "metadata": {
        "id": "5GbVOeSXlmtT"
      },
      "outputs": [],
      "source": [
        "# challenging input\n",
        "prompt = \"\"\"\n",
        "# SYSTEM PREAMBLE\n",
        "1) You are an excellent Python software developer with over 10 years of experience. You have a strong understanding of Python related topics, data structures, libraries, frameworks, algorithms, best practices and optimization techniques.\n",
        "2) You are here to help the user (the software developer) by breaking his request in ## TASK into logical steps and writing high-quality and efficient code to implement each step.\n",
        "3) You have to return the entire code.\n",
        "4) Follow \"Answering rules\" without exception.\n",
        "\n",
        "## ANSWERING RULES\n",
        "1) Repeat the question before answering it.\n",
        "2) Always follow \"CHAIN OF THOUGHTS\" to execute the task.\n",
        "\n",
        "## CHAIN OF THOUGHTS\n",
        "1) **OBEY the EXECUTION MODE**\n",
        "2) **TASK ANALYSIS:**\n",
        "   - Understand the user's request thoroughly.\n",
        "   - Identify the key components and requirements of the task.\n",
        "3) **PLANNING: CODDING:**\n",
        "   - Break down the task into logical, sequential steps.\n",
        "   - Outline the strategy for implementing each step.\n",
        "4) **CODING:**\n",
        "   - Explain your thought process before writing any code.\n",
        "   - Write the entire code for each step, ensuring it is clean, optimized, and well-commented.\n",
        "   - Handle edge cases and errors appropriately.\n",
        "5) **VERIFICATION:**\n",
        "   - Review the complete code solution for accuracy and efficiency.\n",
        "   - Ensure the code meets all requirements and is free of errors.\n",
        "\n",
        "## TASK\n",
        "\n",
        "Write a python function that receives the following JSON as input and enters data from it into the Google Sheet.\n",
        "\n",
        "{\n",
        "    'date': '31-05-2024',\n",
        "    'revenue': 90000,\n",
        "    'person' : 'User1',\n",
        "    'expensesList': [30000, 14000, 10000, 2000, 15000],\n",
        "    'expensesDescList': [ 'Ключи', 'Ключи2', 'Счет за такси', 'Клей, пластины', 'Провод 40м'],\n",
        "    'expensesTypeList': ['Закупки', 'Закупки', 'Расходы', 'Ремонт', 'Ремонт']\n",
        "}\n",
        "\n",
        "There is a date in JSON, you can use it to determine the month.\n",
        "The data is entered into a list with the name of the month. If such a list does not exist yet, then you need to create a list with a new month inside the sheet.\n",
        "\n",
        "The list should have the following columns (the first rows are used as headings):\n",
        "A1: Дата расхода,\n",
        "B1: сумма расхода,\n",
        "C1: описание расхода,\n",
        "D1: тип расхода,\n",
        "E1: кто внес данные\n",
        "\n",
        "G1: Дата выручки\n",
        "H1: Сумма выручки\n",
        "I1: Кто внес данные\n",
        "\n",
        "Please separate expenses and profits with a blank column.\n",
        "Please sort expenses by date, including those already listed in Google sheet list.\n",
        "Please sort earnings by date, including those already listed in Google sheet list.\n",
        "\n",
        "It is prohibited to use oauth2client as it is deprecated.\n",
        "\"\"\""
      ]
    },
    {
      "cell_type": "code",
      "execution_count": 4,
      "metadata": {
        "colab": {
          "base_uri": "https://localhost:8080/"
        },
        "id": "scDTImShlmtU",
        "outputId": "550cdf9f-6118-46c1-83ea-ab4b3c1059ef"
      },
      "outputs": [
        {
          "name": "stdout",
          "output_type": "stream",
          "text": [
            "To accomplish the task, we will follow these steps:\n",
            "\n",
            "1. Parse the JSON data.\n",
            "2. Create or update the expense and profit lists in the Google Sheet.\n",
            "3. Sort both lists by date.\n",
            "4. Insert the data into the appropriate columns in the Google Sheet.\n",
            "\n",
            "Let's start by parsing the JSON data and creating the necessary lists. For simplicity, we will assume that the Google Sheet has been set up correctly and that we have access to the necessary Google Sheets API client library. We'll use `google-auth` and `google-api-python-client` for authentication and interaction with the Google Sheets API.\n",
            "\n",
            "Here's the complete code:\n",
            "\n",
            "```python\n",
            "import json\n",
            "from datetime import datetime\n",
            "from google.oauth2.credentials import Credentials\n",
            "from googleapiclient.discovery import build\n",
            "\n",
            "def parse_json(json_data):\n",
            "    \"\"\"Parse the JSON data.\"\"\"\n",
            "    parsed_data = json.loads(json_data)\n",
            "    \n",
            "    # Extract relevant information\n",
            "    date_str = parsed_data['date']\n",
            "    revenue = parsed_data['revenue']\n",
            "    person = parsed_data['person']\n",
            "    expenses = parsed_data['expensesList']\n",
            "    expenses_desc = parsed_data['expensesDescList']\n",
            "    expenses_type = parsed_data['expensesTypeList']\n",
            "    \n",
            "    return {\n",
            "        'date': date_str,\n",
            "        'revenue': revenue,\n",
            "        'person': person,\n",
            "        'expenses': expenses,\n",
            "        'expenses_desc': expenses_desc,\n",
            "        'expenses_type': expenses_type\n",
            "    }\n",
            "\n",
            "def get_sheet_service(credentials):\n",
            "    \"\"\"Get the Google Sheets service.\"\"\"\n",
            "    service = build('sheets', 'v4', credentials=credentials)\n",
            "    return service.spreadsheets()\n",
            "\n",
            "def add_row_to_sheet(sheet_id, service, row, sheet_name='Sheet1'):\n",
            "    \"\"\"Add a row to the specified sheet.\"\"\"\n",
            "    body = {\n",
            "        'values': [row]\n",
            "    }\n",
            "    result = service.spreadsheets().values().append(\n",
            "        spreadsheetId=sheet_id,\n",
            "        valueInputOption='USER_ENTERED',\n",
            "        range=f'{sheet_name}!A1:E'\n",
            "    ).execute()\n",
            "    print(f\"{result.get('updates').get('updatedCells')} cells updated.\")\n",
            "    return result\n",
            "\n",
            "def add_profit_row_to_sheet(sheet_id, service, row, sheet_name='Sheet1'):\n",
            "    \"\"\"Add a row for profit to the specified sheet.\"\"\"\n",
            "    body = {\n",
            "        'values': [row]\n",
            "    }\n",
            "    result = service.spreadsheets().values().append(\n",
            "        spreadsheetId=sheet_id,\n",
            "        valueInputOption='USER_ENTERED',\n",
            "        range=f'{sheet_name}!G1:I'\n",
            "    ).execute()\n",
            "    print(f\"{result.get('updates').get('updatedCells')} cells updated.\")\n",
            "    return result\n",
            "\n",
            "def get_date_month(date_str):\n",
            "    \"\"\"Get the month from the date string.\"\"\"\n",
            "    date_obj = datetime.strptime(date_str, '%d-%m-%Y')\n",
            "    return date_obj.strftime('%B')\n",
            "\n",
            "def main():\n",
            "    # Load credentials from JSON file\n",
            "    with open('path/to/your/credentials.json') as f:\n",
            "        credentials = Credentials.from_authorized_user_file(f)\n",
            "    \n",
            "    # Get the Google Sheets service\n",
            "    service = get_sheet_service(credentials)\n",
            "    \n",
            "    # Parse the JSON data\n",
            "    parsed_data = parse_json(json_data)\n",
            "    \n",
            "    # Determine the month\n",
            "    month = get_date_month(parsed_data['date'])\n",
            "    \n",
            "    # Prepare expense row\n",
            "    expenses_row = [\n",
            "        parsed_data['date'],\n",
            "        str(parsed_data['revenue']),\n",
            "        ', '.join(parsed_data['expenses_desc']),\n",
            "        ', '.join(parsed_data['expenses_type']),\n",
            "        parsed_data['person']\n",
            "    ]\n",
            "    \n",
            "    # Prepare profit row\n",
            "    profit_row = [\n",
            "        parsed_data['date'],\n",
            "        str(parsed_data['revenue']),\n",
            "        'Выручка',\n",
            "        'Себестоимость',\n",
            "        parsed_data['person']\n",
            "    ]\n",
            "    \n",
            "    # Add expense row to the sheet\n",
            "    add_row_to_sheet(service.spreadsheet_id, service, expenses_row, sheet_name='Sheet1')\n",
            "    \n",
            "    # Add profit row to the sheet\n",
            "    add_profit_row_to_sheet(service.spreadsheet_id, service, profit_row, sheet_name='Sheet1')\n",
            "\n",
            "if __name__ == \"__main__\":\n",
            "    json_data = '''\n",
            "    {\n",
            "        'date': '31-05-2024',\n",
            "        'revenue': 90000,\n",
            "        'person': 'User1',\n",
            "        'expensesList': [30000, 14000, 10000, 2000, 15000],\n",
            "        'expensesDescList': [ 'Ключи', 'Ключи2', 'Счет за такси', 'Клей, пластины', 'Провод 40м'],\n",
            "        'expensesTypeList': ['Закупки', 'Закупки', 'Расходы', 'Ремонт', 'Ремонт']\n",
            "    }\n",
            "    '''\n",
            "    main()\n",
            "```\n",
            "\n",
            "### Explanation:\n",
            "\n",
            "1. **Parsing JSON\n"
          ]
        }
      ],
      "source": [
        "messages = [\n",
        "    {\"role\": \"system\", \"content\": \"You are Qwen, created by Alibaba Cloud. You are a helpful assistant.\"},\n",
        "    {\"role\": \"user\", \"content\": prompt}\n",
        "]\n",
        "text = tokenizer.apply_chat_template(\n",
        "    messages,\n",
        "    tokenize=False,\n",
        "    add_generation_prompt=True\n",
        ")\n",
        "model_inputs = tokenizer([text], return_tensors=\"pt\").to(model.device)\n",
        "generation_output = model.generate(**model_inputs, streamer=streamer, max_new_tokens=1024)"
      ]
    },
    {
      "cell_type": "code",
      "execution_count": null,
      "metadata": {},
      "outputs": [],
      "source": [
        "class Catcher(nn.Module):\n",
        "    def __init__(self, inps: List, module: nn.Module):\n",
        "        \"\"\"Use this module to wrap model layer to save its inputs.\n",
        "\n",
        "        Args:\n",
        "            inps (List): external inputs storage\n",
        "            module (nn.Module): module to wrap\n",
        "        \"\"\"\n",
        "        super().__init__()\n",
        "        \n",
        "        # YOUR CODE HERE\n",
        "        ...\n",
        "        \n",
        "\n",
        "    def forward(self, inp, **kwargs):\n",
        "        \"\"\"Save inps to storage and raise an exception ValueError\n",
        "\n",
        "        Args:\n",
        "            inp: inputs to save\n",
        "        \"\"\"\n",
        "        # YOUR CODE HERE\n",
        "        ..."
      ]
    },
    {
      "cell_type": "code",
      "execution_count": 7,
      "metadata": {
        "id": "UaQPJeQMlmtV"
      },
      "outputs": [],
      "source": [
        "layer = model.model.layers[0]\n",
        "inps = []\n",
        "layer.self_attn.q_proj = Catcher(inps, layer.self_attn.q_proj) # wrap"
      ]
    },
    {
      "cell_type": "code",
      "execution_count": 8,
      "metadata": {
        "id": "lDXTyhi4lmtV"
      },
      "outputs": [],
      "source": [
        "try:\n",
        "    model(model_inputs.input_ids)\n",
        "except ValueError as e:\n",
        "    layer.self_attn.q_proj = layer.self_attn.q_proj.module"
      ]
    },
    {
      "cell_type": "code",
      "execution_count": 9,
      "metadata": {
        "colab": {
          "base_uri": "https://localhost:8080/"
        },
        "id": "N4wTaZR5lmtV",
        "outputId": "9f494935-5a56-49fa-db61-2042d56ba9e7"
      },
      "outputs": [
        {
          "data": {
            "text/plain": [
              "torch.Size([1, 700, 2048])"
            ]
          },
          "execution_count": 9,
          "metadata": {},
          "output_type": "execute_result"
        }
      ],
      "source": [
        "inps[0].shape"
      ]
    },
    {
      "cell_type": "code",
      "execution_count": 10,
      "metadata": {
        "id": "9p1tFHE5lmtV"
      },
      "outputs": [],
      "source": [
        "# unwrap\n",
        "weight = layer.self_attn.q_proj.weight"
      ]
    },
    {
      "cell_type": "markdown",
      "metadata": {
        "id": "pHW-5ajhlmtV"
      },
      "source": [
        "### Triton GeMM"
      ]
    },
    {
      "cell_type": "markdown",
      "metadata": {},
      "source": [
        "#### When to Use Triton\n",
        "- Optimization Steps:\n",
        "1. Use torch.compile():\n",
        "    - Start by using torch.compile() to optimize your code.\n",
        "2. Adapt Your Code:\n",
        "    - Rewrite code to be more suitable for torch.compile().\n",
        "        - E.g., eliminate graph breaks to enable CUDA graphs.\n",
        "3. Profile and Identify Bottlenecks:\n",
        "    - Find slow parts of your code using profiling tools.\n",
        "    - Write custom Triton kernels for these parts.\n",
        "4. Consider CUDA:\n",
        "    - If still not fast enough, write custom CUDA kernels.\n",
        "\n",
        "**Note**: For maximum performance from the start, you may choose CUDA directly.\n",
        "\n",
        "#### Rough Edges in Triton\n",
        "- New-ish Project:\n",
        "    - Contains rough edges; code may not behave as expected.\n",
        "    - Expected to become more polished over time.\n",
        "- Recommendation:\n",
        "    - Debugging is important; use “simulator mode” when possible.\n",
        "    - Be aware of limitations on older GPUs or with certain operations."
      ]
    },
    {
      "cell_type": "markdown",
      "metadata": {},
      "source": [
        "Resources (most useful):\n",
        "- [GPU MODE Lecture 14: Practitioners Guide to Triton](https://christianjmills.com/posts/cuda-mode-notes/lecture-014/#auto-tuning) - contains basic description of Triton development, its pros/cons, practical examples with full explanations, and optimization techniques\n",
        "- [Flash-Decoding for long-context inference](https://pytorch.org/blog/flash-decoding/) - description of SPLIT_K optimization for faster inference during the decoding step by better utilizing the GPU\n",
        "\n",
        "Less useful but interesting:\n",
        "- [Deep Dive on the Hopper TMA Unit for FP8 GEMMs](https://pytorch.org/blog/hopper-tma-unit/) - about the importance of TMA unit for Hopper and BlackWell\n",
        "- [Persistent Matmul](https://triton-lang.org/main/getting-started/tutorials/09-persistent-matmul.html) - special version of GeMM for Hopper and BlackWell with TMA support\n"
      ]
    },
    {
      "cell_type": "code",
      "execution_count": 11,
      "metadata": {
        "id": "mH2g_HxalmtV"
      },
      "outputs": [],
      "source": [
        "def is_cuda():\n",
        "    return triton.runtime.driver.active.get_current_target().backend == \"cuda\"\n",
        "\n",
        "assert is_cuda(), \"CUDA only tutorial\"\n",
        "ref_lib = 'cuBLAS'"
      ]
    },
    {
      "cell_type": "code",
      "execution_count": 12,
      "metadata": {
        "id": "I1Il52RRlmtW"
      },
      "outputs": [],
      "source": [
        "# TODO: play  with configs on seminar\n",
        "def get_cuda_autotune_config():\n",
        "    return [\n",
        "        triton.Config({'SPLIT_K': 1, 'BLOCK_SIZE_M': 128, 'BLOCK_SIZE_N': 256, 'BLOCK_SIZE_K': 64, 'GROUP_SIZE_M': 8}, num_stages=3, num_warps=8),\n",
        "        triton.Config({'SPLIT_K': 1, 'BLOCK_SIZE_M': 64,  'BLOCK_SIZE_N': 256, 'BLOCK_SIZE_K': 32, 'GROUP_SIZE_M': 8}, num_stages=4, num_warps=4),\n",
        "        triton.Config({'SPLIT_K': 1, 'BLOCK_SIZE_M': 128, 'BLOCK_SIZE_N': 128, 'BLOCK_SIZE_K': 32, 'GROUP_SIZE_M': 8}, num_stages=4, num_warps=4),\n",
        "        triton.Config({'SPLIT_K': 1, 'BLOCK_SIZE_M': 128, 'BLOCK_SIZE_N': 64,  'BLOCK_SIZE_K': 32, 'GROUP_SIZE_M': 8}, num_stages=4, num_warps=4),\n",
        "        triton.Config({'SPLIT_K': 1, 'BLOCK_SIZE_M': 64,  'BLOCK_SIZE_N': 128, 'BLOCK_SIZE_K': 32, 'GROUP_SIZE_M': 8}, num_stages=4, num_warps=4),\n",
        "        triton.Config({'SPLIT_K': 1, 'BLOCK_SIZE_M': 128, 'BLOCK_SIZE_N': 32,  'BLOCK_SIZE_K': 32, 'GROUP_SIZE_M': 8}, num_stages=4, num_warps=4),\n",
        "        triton.Config({'SPLIT_K': 1, 'BLOCK_SIZE_M': 64,  'BLOCK_SIZE_N': 32,  'BLOCK_SIZE_K': 32, 'GROUP_SIZE_M': 8}, num_stages=5, num_warps=2),\n",
        "        triton.Config({'SPLIT_K': 1, 'BLOCK_SIZE_M': 32,  'BLOCK_SIZE_N': 64,  'BLOCK_SIZE_K': 32, 'GROUP_SIZE_M': 8}, num_stages=5, num_warps=2),\n",
        "\t    triton.Config({'SPLIT_K': 1, 'BLOCK_SIZE_M': 64, 'BLOCK_SIZE_N': 64, 'BLOCK_SIZE_K': 32,  'GROUP_SIZE_M': 8}, num_stages=4, num_warps=4),\n",
        "\t    triton.Config({'SPLIT_K': 1, 'BLOCK_SIZE_M': 64, 'BLOCK_SIZE_N': 64, 'BLOCK_SIZE_K': 64,  'GROUP_SIZE_M': 8}, num_stages=3, num_warps=8),\n",
        "\t    triton.Config({'SPLIT_K': 1, 'BLOCK_SIZE_M': 32, 'BLOCK_SIZE_N': 32, 'BLOCK_SIZE_K': 128, 'GROUP_SIZE_M': 8}, num_stages=2, num_warps=4),\n",
        "\t    triton.Config({'SPLIT_K': 1, 'BLOCK_SIZE_M': 64, 'BLOCK_SIZE_N': 64, 'BLOCK_SIZE_K': 32,  'GROUP_SIZE_M': 16}, num_stages=4, num_warps=4),\n",
        "\t    triton.Config({'SPLIT_K': 1, 'BLOCK_SIZE_M': 64, 'BLOCK_SIZE_N': 64, 'BLOCK_SIZE_K': 64,  'GROUP_SIZE_M': 16}, num_stages=3, num_warps=8),\n",
        "\t    triton.Config({'SPLIT_K': 1, 'BLOCK_SIZE_M': 32, 'BLOCK_SIZE_N': 32, 'BLOCK_SIZE_K': 128, 'GROUP_SIZE_M': 16}, num_stages=2, num_warps=4),\n",
        "\t    triton.Config({'SPLIT_K': 1, 'BLOCK_SIZE_M': 64, 'BLOCK_SIZE_N': 64, 'BLOCK_SIZE_K': 64,  'GROUP_SIZE_M': 16}, num_stages=4, num_warps=4),\n",
        "\t    triton.Config({'SPLIT_K': 1, 'BLOCK_SIZE_M': 64, 'BLOCK_SIZE_N': 64, 'BLOCK_SIZE_K': 128, 'GROUP_SIZE_M': 16}, num_stages=3, num_warps=8),\n",
        "\t    triton.Config({'SPLIT_K': 1, 'BLOCK_SIZE_M': 32, 'BLOCK_SIZE_N': 32, 'BLOCK_SIZE_K': 256, 'GROUP_SIZE_M': 16}, num_stages=2, num_warps=4),\n",
        "        triton.Config({'SPLIT_K': 2, 'BLOCK_SIZE_M': 128, 'BLOCK_SIZE_N': 256, 'BLOCK_SIZE_K': 64, 'GROUP_SIZE_M': 8}, num_stages=3, num_warps=8),\n",
        "        triton.Config({'SPLIT_K': 2, 'BLOCK_SIZE_M': 64,  'BLOCK_SIZE_N': 256, 'BLOCK_SIZE_K': 32, 'GROUP_SIZE_M': 8}, num_stages=4, num_warps=4),\n",
        "        triton.Config({'SPLIT_K': 2, 'BLOCK_SIZE_M': 128, 'BLOCK_SIZE_N': 128, 'BLOCK_SIZE_K': 32, 'GROUP_SIZE_M': 8}, num_stages=4, num_warps=4),\n",
        "        triton.Config({'SPLIT_K': 2, 'BLOCK_SIZE_M': 128, 'BLOCK_SIZE_N': 64,  'BLOCK_SIZE_K': 32, 'GROUP_SIZE_M': 8}, num_stages=4, num_warps=4),\n",
        "        triton.Config({'SPLIT_K': 2, 'BLOCK_SIZE_M': 64,  'BLOCK_SIZE_N': 128, 'BLOCK_SIZE_K': 32, 'GROUP_SIZE_M': 8}, num_stages=4, num_warps=4),\n",
        "        triton.Config({'SPLIT_K': 2, 'BLOCK_SIZE_M': 128, 'BLOCK_SIZE_N': 32,  'BLOCK_SIZE_K': 32, 'GROUP_SIZE_M': 8}, num_stages=4, num_warps=4),\n",
        "        triton.Config({'SPLIT_K': 2, 'BLOCK_SIZE_M': 64,  'BLOCK_SIZE_N': 32,  'BLOCK_SIZE_K': 32, 'GROUP_SIZE_M': 8}, num_stages=5, num_warps=2),\n",
        "        triton.Config({'SPLIT_K': 2, 'BLOCK_SIZE_M': 32,  'BLOCK_SIZE_N': 64,  'BLOCK_SIZE_K': 32, 'GROUP_SIZE_M': 8}, num_stages=5, num_warps=2),\n",
        "        triton.Config({'SPLIT_K': 2, 'BLOCK_SIZE_M': 64, 'BLOCK_SIZE_N': 64, 'BLOCK_SIZE_K': 32,  'GROUP_SIZE_M': 8}, num_stages=4, num_warps=4),\n",
        "\t\ttriton.Config({'SPLIT_K': 2, 'BLOCK_SIZE_M': 64, 'BLOCK_SIZE_N': 64, 'BLOCK_SIZE_K': 64,  'GROUP_SIZE_M': 8}, num_stages=3, num_warps=8),\n",
        "        triton.Config({'SPLIT_K': 2, 'BLOCK_SIZE_M': 32, 'BLOCK_SIZE_N': 32, 'BLOCK_SIZE_K': 128, 'GROUP_SIZE_M': 8}, num_stages=2, num_warps=4),\n",
        "\t\ttriton.Config({'SPLIT_K': 2, 'BLOCK_SIZE_M': 64, 'BLOCK_SIZE_N': 64, 'BLOCK_SIZE_K': 32,  'GROUP_SIZE_M': 16}, num_stages=4, num_warps=4),\n",
        "\t\ttriton.Config({'SPLIT_K': 2, 'BLOCK_SIZE_M': 64, 'BLOCK_SIZE_N': 64, 'BLOCK_SIZE_K': 64,  'GROUP_SIZE_M': 16}, num_stages=3, num_warps=8),\n",
        "\t\ttriton.Config({'SPLIT_K': 2, 'BLOCK_SIZE_M': 32, 'BLOCK_SIZE_N': 32, 'BLOCK_SIZE_K': 128, 'GROUP_SIZE_M': 16}, num_stages=2, num_warps=4),\n",
        "\t\ttriton.Config({'SPLIT_K': 2, 'BLOCK_SIZE_M': 64, 'BLOCK_SIZE_N': 64, 'BLOCK_SIZE_K': 64,  'GROUP_SIZE_M': 16}, num_stages=4, num_warps=4),\n",
        "\t\ttriton.Config({'SPLIT_K': 2, 'BLOCK_SIZE_M': 64, 'BLOCK_SIZE_N': 64, 'BLOCK_SIZE_K': 128, 'GROUP_SIZE_M': 16}, num_stages=3, num_warps=8),\n",
        "\t\ttriton.Config({'SPLIT_K': 2, 'BLOCK_SIZE_M': 32, 'BLOCK_SIZE_N': 32, 'BLOCK_SIZE_K': 256, 'GROUP_SIZE_M': 16}, num_stages=2, num_warps=4),\n",
        "        # custom\n",
        "        triton.Config({'SPLIT_K': 2, 'BLOCK_SIZE_M': 16,  'BLOCK_SIZE_N': 256, 'BLOCK_SIZE_K': 32, 'GROUP_SIZE_M': 8}, num_stages=4, num_warps=4),\n",
        "        triton.Config({'SPLIT_K': 2, 'BLOCK_SIZE_M': 16,  'BLOCK_SIZE_N': 64,  'BLOCK_SIZE_K': 32, 'GROUP_SIZE_M': 8}, num_stages=5, num_warps=2),\n",
        "        triton.Config({'SPLIT_K': 2, 'BLOCK_SIZE_M': 16, 'BLOCK_SIZE_N': 32, 'BLOCK_SIZE_K': 128, 'GROUP_SIZE_M': 16}, num_stages=2, num_warps=4),\n",
        "        triton.Config({'SPLIT_K': 4, 'BLOCK_SIZE_M': 16, 'BLOCK_SIZE_N': 32, 'BLOCK_SIZE_K': 256, 'GROUP_SIZE_M': 16}, num_stages=2, num_warps=4),\n",
        "        triton.Config({'SPLIT_K': 4, 'BLOCK_SIZE_M': 16,  'BLOCK_SIZE_N': 256, 'BLOCK_SIZE_K': 32, 'GROUP_SIZE_M': 8}, num_stages=4, num_warps=4),\n",
        "        triton.Config({'SPLIT_K': 4, 'BLOCK_SIZE_M': 16,  'BLOCK_SIZE_N': 64,  'BLOCK_SIZE_K': 32, 'GROUP_SIZE_M': 8}, num_stages=5, num_warps=2),\n",
        "        triton.Config({'SPLIT_K': 4, 'BLOCK_SIZE_M': 16, 'BLOCK_SIZE_N': 32, 'BLOCK_SIZE_K': 128, 'GROUP_SIZE_M': 16}, num_stages=2, num_warps=4),\n",
        "        triton.Config({'SPLIT_K': 4, 'BLOCK_SIZE_M': 16, 'BLOCK_SIZE_N': 32, 'BLOCK_SIZE_K': 256, 'GROUP_SIZE_M': 16}, num_stages=2, num_warps=4),\n",
        "    ]\n",
        "\n",
        "\n",
        "def get_autotune_config():\n",
        "    if is_cuda():\n",
        "        return get_cuda_autotune_config()\n",
        "    raise NotImplementedError(\"ooops\")"
      ]
    },
    {
      "cell_type": "code",
      "execution_count": 13,
      "metadata": {
        "id": "Qx7SUeeZlmtW"
      },
      "outputs": [],
      "source": [
        "@triton.autotune(\n",
        "    configs=get_autotune_config(),\n",
        "    key=['M', 'N', 'K'],\n",
        "    reset_to_zero=['c_ptr']\n",
        ")\n",
        "@triton.jit\n",
        "def matmul_kernel(\n",
        "    # Pointers to matrices\n",
        "    a_ptr, b_ptr, c_ptr,\n",
        "    # Matrix dimensions\n",
        "    M, N, K,\n",
        "    # The stride variables represent how much to increase the ptr by when moving by 1\n",
        "    # element in a particular dimension. E.g. `stride_am` is how much to increase `a_ptr`\n",
        "    # by to get the element one row down (A has M rows).\n",
        "    stride_am, stride_ak,\n",
        "    stride_bk, stride_bn,\n",
        "    stride_cm, stride_cn,\n",
        "    # Meta-parameters\n",
        "    BLOCK_SIZE_M: tl.constexpr, BLOCK_SIZE_N: tl.constexpr, BLOCK_SIZE_K: tl.constexpr,\n",
        "    GROUP_SIZE_M: tl.constexpr, SPLIT_K: tl.constexpr,\n",
        "):\n",
        "    \"\"\"Kernel for computing the matmul C = A x B.\n",
        "    A has shape (M, K), B has shape (K, N) and C has shape (M, N)\n",
        "    \"\"\"\n",
        "    # -----------------------------------------------------------\n",
        "    # Map program ids `pid` to the block of C it should compute.\n",
        "    # This is done in a grouped ordering to promote L2 data reuse.\n",
        "    # See above `L2 Cache Optimizations` section for details.\n",
        "    pid = tl.program_id(axis=0)\n",
        "    pid_sp_k = tl.program_id(axis=1)\n",
        "    num_pid_m = tl.cdiv(M, BLOCK_SIZE_M)\n",
        "    num_pid_n = tl.cdiv(N, BLOCK_SIZE_N)\n",
        "    num_pid_in_group = GROUP_SIZE_M * num_pid_n\n",
        "    group_id = pid // num_pid_in_group\n",
        "    first_pid_m = group_id * GROUP_SIZE_M\n",
        "    group_size_m = min(num_pid_m - first_pid_m, GROUP_SIZE_M)\n",
        "    pid_m = first_pid_m + (pid % group_size_m)\n",
        "    pid_n = (pid % num_pid_in_group) // group_size_m\n",
        "\n",
        "    # ----------------------------------------------------------\n",
        "    # Create pointers for the first blocks of A and B.\n",
        "    # We will advance this pointer as we move in the K direction\n",
        "    # and accumulate\n",
        "    # `a_ptrs` is a block of [BLOCK_SIZE_M, BLOCK_SIZE_K] pointers\n",
        "    # `b_ptrs` is a block of [BLOCK_SIZE_K, BLOCK_SIZE_N] pointers\n",
        "    # See above `Pointer Arithmetics` section for details\n",
        "    offs_am = (pid_m * BLOCK_SIZE_M + tl.arange(0, BLOCK_SIZE_M)) % M\n",
        "    offs_bn = (pid_n * BLOCK_SIZE_N + tl.arange(0, BLOCK_SIZE_N)) % N\n",
        "    offs_k = pid_sp_k * BLOCK_SIZE_K + tl.arange(0, BLOCK_SIZE_K)\n",
        "    a_ptrs = a_ptr + (offs_am[:, None] * stride_am + offs_k[None, :] * stride_ak)\n",
        "    b_ptrs = b_ptr + (offs_k[:, None] * stride_bk + offs_bn[None, :] * stride_bn)\n",
        "    # -----------------------------------------------------------\n",
        "    # Iterate to compute a block of the C matrix.\n",
        "    # We accumulate into a `[BLOCK_SIZE_M, BLOCK_SIZE_N]` block\n",
        "    # of fp32 values for higher accuracy.\n",
        "    # `accumulator` will be converted back to fp16 after the loop.\n",
        "    accumulator = tl.zeros((BLOCK_SIZE_M, BLOCK_SIZE_N), dtype=tl.float32)\n",
        "    for k in range(0, tl.cdiv(K, BLOCK_SIZE_K * SPLIT_K)):\n",
        "        # Load the next block of A and B, generate a mask by checking the K dimension.\n",
        "        # If it is out of bounds, set it to 0.\n",
        "        a = tl.load(a_ptrs, mask=offs_k[None, :] < K - k * BLOCK_SIZE_K * SPLIT_K, other=0.0)\n",
        "        b = tl.load(b_ptrs, mask=offs_k[:, None] < K - k * BLOCK_SIZE_K * SPLIT_K, other=0.0)\n",
        "        # We accumulate along the K dimension.\n",
        "        accumulator += tl.dot(a, b, allow_tf32=False)\n",
        "        # Advance the ptrs to the next K block.\n",
        "        a_ptrs += BLOCK_SIZE_K * SPLIT_K * stride_ak\n",
        "        b_ptrs += BLOCK_SIZE_K * SPLIT_K * stride_bk\n",
        "    # You can fuse arbitrary activation functions here\n",
        "    # while the accumulator is still in FP32!\n",
        "    c = accumulator.to(c_ptr.dtype.element_ty)\n",
        "    # -----------------------------------------------------------\n",
        "    # Write back the block of the output matrix C with masks.\n",
        "    offs_cm = pid_m * BLOCK_SIZE_M + tl.arange(0, BLOCK_SIZE_M)\n",
        "    offs_cn = pid_n * BLOCK_SIZE_N + tl.arange(0, BLOCK_SIZE_N)\n",
        "    c_ptrs = c_ptr + stride_cm * offs_cm[:, None] + stride_cn * offs_cn[None, :]\n",
        "    c_mask = (offs_cm[:, None] < M) & (offs_cn[None, :] < N)\n",
        "    if SPLIT_K == 1:\n",
        "        tl.store(c_ptrs, c, mask=c_mask)\n",
        "    else:\n",
        "        tl.atomic_add(c_ptrs, c, mask=c_mask)"
      ]
    },
    {
      "cell_type": "code",
      "execution_count": 14,
      "metadata": {
        "id": "0OuhzgOylmtW"
      },
      "outputs": [],
      "source": [
        "def matmul(a, b):\n",
        "    # Check constraints.\n",
        "    assert a.shape[1] == b.shape[0], \"Incompatible dimensions\"\n",
        "    M, K = a.shape\n",
        "    K, N = b.shape\n",
        "    # Allocates output.\n",
        "    c = torch.zeros((M, N), device=a.device, dtype=torch.float16)\n",
        "    grid = lambda META: (\n",
        "        triton.cdiv(M, META['BLOCK_SIZE_M']) * triton.cdiv(N, META['BLOCK_SIZE_N']),\n",
        "        META['SPLIT_K'],\n",
        "    )\n",
        "    matmul_kernel[grid](\n",
        "        a, b, c,\n",
        "        M, N, K,\n",
        "        a.stride(0), a.stride(1),\n",
        "        b.stride(0), b.stride(1),\n",
        "        c.stride(0), c.stride(1),\n",
        "    )\n",
        "    return c"
      ]
    },
    {
      "cell_type": "markdown",
      "metadata": {
        "id": "Y7THM_iRlmtW"
      },
      "source": [
        "Sanity check on quality:"
      ]
    },
    {
      "cell_type": "code",
      "execution_count": 15,
      "metadata": {
        "colab": {
          "base_uri": "https://localhost:8080/"
        },
        "id": "Zy7cPBh1lmtW",
        "outputId": "0618602d-24f8-4b83-cf40-175cd154b203"
      },
      "outputs": [
        {
          "name": "stdout",
          "output_type": "stream",
          "text": [
            "✅ Triton and Torch match\n"
          ]
        }
      ],
      "source": [
        "torch.manual_seed(0)\n",
        "\n",
        "a = inps[0][0].to(torch.float16).cuda()\n",
        "b = weight.to(torch.float16).cuda()\n",
        "\n",
        "triton_output = matmul(a, b)\n",
        "torch_output = torch.matmul(a, b)\n",
        "\n",
        "if torch.allclose(triton_output, torch_output, atol=2e-2):\n",
        "    print(\"✅ Triton and Torch match\")\n",
        "else:\n",
        "    print(\"❌ Triton and Torch differ\")\n",
        "    print(f\"triton_output_with_fp16_inputs={triton_output}\")\n",
        "    print(f\"torch_output_with_fp16_inputs={torch_output}\")\n",
        "    assert False, \"Check quality\""
      ]
    },
    {
      "cell_type": "code",
      "execution_count": 16,
      "metadata": {
        "id": "Wz-10-69lmtW"
      },
      "outputs": [],
      "source": [
        "seqlen = inps[0].shape[1]\n",
        "hidden_size = inps[0].shape[2]\n",
        "seqlen, hidden_size\n",
        "\n",
        "\n",
        "def prepare_a(M: int):\n",
        "    inp = inps[0][0]\n",
        "    if M > seqlen:\n",
        "        n_repeats = M // seqlen + 1\n",
        "        return inp.repeat(n_repeats, 1)[:M]\n",
        "    else:\n",
        "        return inp[:M]\n",
        "\n",
        "\n",
        "def benchmark(M, provider, provider_funcs):\n",
        "    N = weight.shape[0]\n",
        "    K = weight.shape[1]\n",
        "\n",
        "    a = prepare_a(M).to(torch.float16).cuda()\n",
        "    b = weight.T.to(torch.float16)\n",
        "    assert a.shape == (M, K), f\"{a.shape} != {(M, K)}\"\n",
        "    assert b.shape == (K, N), b.shape\n",
        "\n",
        "    quantiles = [0.5, 0.2, 0.8]\n",
        "    ms, min_ms, max_ms = triton.testing.do_bench(lambda: provider_funcs[provider](a, b), quantiles=quantiles)\n",
        "    perf = lambda ms: ms # TFlops = 2 * M * N * K * 1e-12 / (ms * 1e-3)\n",
        "    return perf(ms), perf(max_ms), perf(min_ms)\n"
      ]
    },
    {
      "cell_type": "code",
      "execution_count": 17,
      "metadata": {
        "colab": {
          "base_uri": "https://localhost:8080/",
          "height": 1000
        },
        "id": "H9BhixxhlmtW",
        "outputId": "8e4b0fce-220a-4fe8-c17a-c3377c066954"
      },
      "outputs": [
        {
          "data": {
            "image/png": "[encoded data removed]",
            "text/plain": [
              "<Figure size 640x480 with 1 Axes>"
            ]
          },
          "metadata": {},
          "output_type": "display_data"
        },
        {
          "name": "stdout",
          "output_type": "stream",
          "text": [
            "GeMV-performance-fp16:\n",
            "      M    cuBLAS    Triton\n",
            "0   1.0  0.042640  0.050672\n",
            "1   2.0  0.057344  0.051200\n",
            "2   4.0  0.057344  0.051200\n",
            "3   8.0  0.057344  0.051680\n",
            "4  16.0  0.057536  0.051680\n",
            "5  32.0  0.061472  0.052288\n",
            "6  64.0  0.062464  0.062064\n"
          ]
        },
        {
          "data": {
            "image/png": "[encoded data removed]",
            "text/plain": [
              "<Figure size 640x480 with 1 Axes>"
            ]
          },
          "metadata": {},
          "output_type": "display_data"
        },
        {
          "name": "stdout",
          "output_type": "stream",
          "text": [
            "GeMM-performance-fp16:\n",
            "          M    cuBLAS    Triton\n",
            "0    4096.0  1.134592  1.535680\n",
            "1    5120.0  1.394688  1.914752\n",
            "2    6144.0  1.840192  2.346016\n",
            "3    7168.0  2.203040  2.803680\n",
            "4    8192.0  3.158048  3.133008\n",
            "5    9216.0  2.916320  3.512736\n",
            "6   10240.0  3.172768  3.776800\n",
            "7   11264.0  3.486976  4.150928\n",
            "8   12288.0  3.938800  4.607584\n",
            "9   13312.0  4.487152  4.963056\n",
            "10  14336.0  4.813248  5.431008\n",
            "11  15360.0  5.482304  5.699728\n",
            "12  16384.0  5.670224  6.212784\n",
            "13  17408.0  6.602560  6.731712\n",
            "14  18432.0  6.869008  7.074528\n",
            "15  19456.0  6.758400  7.614688\n",
            "16  20480.0  6.984048  7.969312\n"
          ]
        }
      ],
      "source": [
        "configs = [\n",
        "    triton.testing.Benchmark(\n",
        "        x_names=[\"M\"],  # Argument names to use as an x-axis for the plot\n",
        "        x_vals=[2 ** i for i in range(7)],  # Different possible values for `x_name`\n",
        "        line_arg=\"provider\",  # Argument name whose value corresponds to a different line in the plot\n",
        "        # Possible values for `line_arg`\n",
        "        line_vals=[ref_lib.lower(), \"triton\"],  # Label name for the lines\n",
        "        line_names=[ref_lib, \"Triton\"],  # Line styles\n",
        "        styles=[(\"green\", \"-\"), (\"blue\", \"-\")],\n",
        "        ylabel=\"ms\",  # Label name for the y-axis\n",
        "        plot_name=\"GeMV-performance-\" + (\"fp16\"),  # Name for the plot, used also as a file name for saving the plot.\n",
        "        args={\"provider_funcs\": {\"triton\": matmul, \"cublas\": torch.matmul}},\n",
        "    ),\n",
        "    triton.testing.Benchmark(\n",
        "        x_names=[\"M\"],  # Argument names to use as an x-axis for the plot\n",
        "        x_vals=[1024 * i for i in range(4, 21)],  # Different possible values for `x_name`\n",
        "        line_arg=\"provider\",  # Argument name whose value corresponds to a different line in the plot\n",
        "        # Possible values for `line_arg`\n",
        "        line_vals=[ref_lib.lower(), \"triton\"],  # Label name for the lines\n",
        "        line_names=[ref_lib, \"Triton\"],  # Line styles\n",
        "        styles=[(\"green\", \"-\"), (\"blue\", \"-\")],\n",
        "        ylabel=\"ms\",  # Label name for the y-axis\n",
        "        plot_name=\"GeMM-performance-\" + (\"fp16\"),  # Name for the plot, used also as a file name for saving the plot.\n",
        "        args={\"provider_funcs\": {\"triton\": matmul, \"cublas\": torch.matmul}},\n",
        "    ),\n",
        "]\n",
        "\n",
        "\n",
        "triton.testing.perf_report(configs)(benchmark).run(show_plots=True, print_data=True)"
      ]
    },
    {
      "cell_type": "markdown",
      "metadata": {},
      "source": [
        "**Not bad!!!**"
      ]
    }
  ],
  "metadata": {
    "accelerator": "GPU",
    "colab": {
      "collapsed_sections": [
        "2R9vd2NOlmtc"
      ],
      "gpuType": "T4",
      "provenance": []
    },
    "kernelspec": {
      "display_name": "Python 3",
      "name": "python3"
    },
    "language_info": {
      "codemirror_mode": {
        "name": "ipython",
        "version": 3
      },
      "file_extension": ".py",
      "mimetype": "text/x-python",
      "name": "python",
      "nbconvert_exporter": "python",
      "pygments_lexer": "ipython3",
      "version": "3.12.3"
    },
    "widgets": {
      "application/vnd.jupyter.widget-state+json": {
        "3838c3cdee884f6d902e3b5d0d4e4583": {
          "model_module": "@jupyter-widgets/controls",
          "model_module_version": "1.5.0",
          "model_name": "HTMLModel",
          "state": {
            "_dom_classes": [],
            "_model_module": "@jupyter-widgets/controls",
            "_model_module_version": "1.5.0",
            "_model_name": "HTMLModel",
            "_view_count": null,
            "_view_module": "@jupyter-widgets/controls",
            "_view_module_version": "1.5.0",
            "_view_name": "HTMLView",
            "description": "",
            "description_tooltip": null,
            "layout": "IPY_MODEL_87caf0f9f3dc4b508d7733e66fde5407",
            "placeholder": "​",
            "style": "IPY_MODEL_c0e17b91d9b244daaf63f87f4683503e",
            "value": " 2/2 [00:37&lt;00:00, 17.49s/it]"
          }
        },
        "5f922ecfa23c4705a42336c1e79900df": {
          "model_module": "@jupyter-widgets/base",
          "model_module_version": "1.2.0",
          "model_name": "LayoutModel",
          "state": {
            "_model_module": "@jupyter-widgets/base",
            "_model_module_version": "1.2.0",
            "_model_name": "LayoutModel",
            "_view_count": null,
            "_view_module": "@jupyter-widgets/base",
            "_view_module_version": "1.2.0",
            "_view_name": "LayoutView",
            "align_content": null,
            "align_items": null,
            "align_self": null,
            "border": null,
            "bottom": null,
            "display": null,
            "flex": null,
            "flex_flow": null,
            "grid_area": null,
            "grid_auto_columns": null,
            "grid_auto_flow": null,
            "grid_auto_rows": null,
            "grid_column": null,
            "grid_gap": null,
            "grid_row": null,
            "grid_template_areas": null,
            "grid_template_columns": null,
            "grid_template_rows": null,
            "height": null,
            "justify_content": null,
            "justify_items": null,
            "left": null,
            "margin": null,
            "max_height": null,
            "max_width": null,
            "min_height": null,
            "min_width": null,
            "object_fit": null,
            "object_position": null,
            "order": null,
            "overflow": null,
            "overflow_x": null,
            "overflow_y": null,
            "padding": null,
            "right": null,
            "top": null,
            "visibility": null,
            "width": null
          }
        },
        "61621d16e2cd40c3ad0c6a849a8b8264": {
          "model_module": "@jupyter-widgets/controls",
          "model_module_version": "1.5.0",
          "model_name": "HBoxModel",
          "state": {
            "_dom_classes": [],
            "_model_module": "@jupyter-widgets/controls",
            "_model_module_version": "1.5.0",
            "_model_name": "HBoxModel",
            "_view_count": null,
            "_view_module": "@jupyter-widgets/controls",
            "_view_module_version": "1.5.0",
            "_view_name": "HBoxView",
            "box_style": "",
            "children": [
              "IPY_MODEL_6bed81d4616649bd857418a131538f7d",
              "IPY_MODEL_9ffb3a0c0fea4081bf4f7c5e6218758f",
              "IPY_MODEL_3838c3cdee884f6d902e3b5d0d4e4583"
            ],
            "layout": "IPY_MODEL_7c3c03fa91874ae5ac941ed171eeb3ea"
          }
        },
        "6272889cfea04dab834ee1c62817540b": {
          "model_module": "@jupyter-widgets/controls",
          "model_module_version": "1.5.0",
          "model_name": "DescriptionStyleModel",
          "state": {
            "_model_module": "@jupyter-widgets/controls",
            "_model_module_version": "1.5.0",
            "_model_name": "DescriptionStyleModel",
            "_view_count": null,
            "_view_module": "@jupyter-widgets/base",
            "_view_module_version": "1.2.0",
            "_view_name": "StyleView",
            "description_width": ""
          }
        },
        "6bed81d4616649bd857418a131538f7d": {
          "model_module": "@jupyter-widgets/controls",
          "model_module_version": "1.5.0",
          "model_name": "HTMLModel",
          "state": {
            "_dom_classes": [],
            "_model_module": "@jupyter-widgets/controls",
            "_model_module_version": "1.5.0",
            "_model_name": "HTMLModel",
            "_view_count": null,
            "_view_module": "@jupyter-widgets/controls",
            "_view_module_version": "1.5.0",
            "_view_name": "HTMLView",
            "description": "",
            "description_tooltip": null,
            "layout": "IPY_MODEL_7498bbbbae7048119584dea4a914da0a",
            "placeholder": "​",
            "style": "IPY_MODEL_6272889cfea04dab834ee1c62817540b",
            "value": "Loading checkpoint shards: 100%"
          }
        },
        "7498bbbbae7048119584dea4a914da0a": {
          "model_module": "@jupyter-widgets/base",
          "model_module_version": "1.2.0",
          "model_name": "LayoutModel",
          "state": {
            "_model_module": "@jupyter-widgets/base",
            "_model_module_version": "1.2.0",
            "_model_name": "LayoutModel",
            "_view_count": null,
            "_view_module": "@jupyter-widgets/base",
            "_view_module_version": "1.2.0",
            "_view_name": "LayoutView",
            "align_content": null,
            "align_items": null,
            "align_self": null,
            "border": null,
            "bottom": null,
            "display": null,
            "flex": null,
            "flex_flow": null,
            "grid_area": null,
            "grid_auto_columns": null,
            "grid_auto_flow": null,
            "grid_auto_rows": null,
            "grid_column": null,
            "grid_gap": null,
            "grid_row": null,
            "grid_template_areas": null,
            "grid_template_columns": null,
            "grid_template_rows": null,
            "height": null,
            "justify_content": null,
            "justify_items": null,
            "left": null,
            "margin": null,
            "max_height": null,
            "max_width": null,
            "min_height": null,
            "min_width": null,
            "object_fit": null,
            "object_position": null,
            "order": null,
            "overflow": null,
            "overflow_x": null,
            "overflow_y": null,
            "padding": null,
            "right": null,
            "top": null,
            "visibility": null,
            "width": null
          }
        },
        "7c3c03fa91874ae5ac941ed171eeb3ea": {
          "model_module": "@jupyter-widgets/base",
          "model_module_version": "1.2.0",
          "model_name": "LayoutModel",
          "state": {
            "_model_module": "@jupyter-widgets/base",
            "_model_module_version": "1.2.0",
            "_model_name": "LayoutModel",
            "_view_count": null,
            "_view_module": "@jupyter-widgets/base",
            "_view_module_version": "1.2.0",
            "_view_name": "LayoutView",
            "align_content": null,
            "align_items": null,
            "align_self": null,
            "border": null,
            "bottom": null,
            "display": null,
            "flex": null,
            "flex_flow": null,
            "grid_area": null,
            "grid_auto_columns": null,
            "grid_auto_flow": null,
            "grid_auto_rows": null,
            "grid_column": null,
            "grid_gap": null,
            "grid_row": null,
            "grid_template_areas": null,
            "grid_template_columns": null,
            "grid_template_rows": null,
            "height": null,
            "justify_content": null,
            "justify_items": null,
            "left": null,
            "margin": null,
            "max_height": null,
            "max_width": null,
            "min_height": null,
            "min_width": null,
            "object_fit": null,
            "object_position": null,
            "order": null,
            "overflow": null,
            "overflow_x": null,
            "overflow_y": null,
            "padding": null,
            "right": null,
            "top": null,
            "visibility": null,
            "width": null
          }
        },
        "7f1074b6abde4dddb7e50f67dc9a99b3": {
          "model_module": "@jupyter-widgets/controls",
          "model_module_version": "1.5.0",
          "model_name": "ProgressStyleModel",
          "state": {
            "_model_module": "@jupyter-widgets/controls",
            "_model_module_version": "1.5.0",
            "_model_name": "ProgressStyleModel",
            "_view_count": null,
            "_view_module": "@jupyter-widgets/base",
            "_view_module_version": "1.2.0",
            "_view_name": "StyleView",
            "bar_color": null,
            "description_width": ""
          }
        },
        "87caf0f9f3dc4b508d7733e66fde5407": {
          "model_module": "@jupyter-widgets/base",
          "model_module_version": "1.2.0",
          "model_name": "LayoutModel",
          "state": {
            "_model_module": "@jupyter-widgets/base",
            "_model_module_version": "1.2.0",
            "_model_name": "LayoutModel",
            "_view_count": null,
            "_view_module": "@jupyter-widgets/base",
            "_view_module_version": "1.2.0",
            "_view_name": "LayoutView",
            "align_content": null,
            "align_items": null,
            "align_self": null,
            "border": null,
            "bottom": null,
            "display": null,
            "flex": null,
            "flex_flow": null,
            "grid_area": null,
            "grid_auto_columns": null,
            "grid_auto_flow": null,
            "grid_auto_rows": null,
            "grid_column": null,
            "grid_gap": null,
            "grid_row": null,
            "grid_template_areas": null,
            "grid_template_columns": null,
            "grid_template_rows": null,
            "height": null,
            "justify_content": null,
            "justify_items": null,
            "left": null,
            "margin": null,
            "max_height": null,
            "max_width": null,
            "min_height": null,
            "min_width": null,
            "object_fit": null,
            "object_position": null,
            "order": null,
            "overflow": null,
            "overflow_x": null,
            "overflow_y": null,
            "padding": null,
            "right": null,
            "top": null,
            "visibility": null,
            "width": null
          }
        },
        "9ffb3a0c0fea4081bf4f7c5e6218758f": {
          "model_module": "@jupyter-widgets/controls",
          "model_module_version": "1.5.0",
          "model_name": "FloatProgressModel",
          "state": {
            "_dom_classes": [],
            "_model_module": "@jupyter-widgets/controls",
            "_model_module_version": "1.5.0",
            "_model_name": "FloatProgressModel",
            "_view_count": null,
            "_view_module": "@jupyter-widgets/controls",
            "_view_module_version": "1.5.0",
            "_view_name": "ProgressView",
            "bar_style": "success",
            "description": "",
            "description_tooltip": null,
            "layout": "IPY_MODEL_5f922ecfa23c4705a42336c1e79900df",
            "max": 2,
            "min": 0,
            "orientation": "horizontal",
            "style": "IPY_MODEL_7f1074b6abde4dddb7e50f67dc9a99b3",
            "value": 2
          }
        },
        "c0e17b91d9b244daaf63f87f4683503e": {
          "model_module": "@jupyter-widgets/controls",
          "model_module_version": "1.5.0",
          "model_name": "DescriptionStyleModel",
          "state": {
            "_model_module": "@jupyter-widgets/controls",
            "_model_module_version": "1.5.0",
            "_model_name": "DescriptionStyleModel",
            "_view_count": null,
            "_view_module": "@jupyter-widgets/base",
            "_view_module_version": "1.2.0",
            "_view_name": "StyleView",
            "description_width": ""
          }
        }
      }
    }
  },
  "nbformat": 4,
  "nbformat_minor": 0
}
