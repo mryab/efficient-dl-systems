{
 "cells": [
  {
   "cell_type": "code",
   "execution_count": 3,
   "id": "973822d8",
   "metadata": {},
   "outputs": [],
   "source": [
    "import torch\n",
    "import torchvision\n",
    "import torchvision.models as models\n",
    "\n",
    "vgg16 = models.vgg16(pretrained=True)"
   ]
  },
  {
   "cell_type": "markdown",
   "id": "ba2c77a0",
   "metadata": {},
   "source": [
    "## Tracing & Scripting"
   ]
  },
  {
   "cell_type": "code",
   "execution_count": 8,
   "id": "d1939c83",
   "metadata": {},
   "outputs": [],
   "source": [
    "def polino(x):\n",
    "    return x**2 + 1"
   ]
  },
  {
   "cell_type": "code",
   "execution_count": 6,
   "id": "cfa5fe86",
   "metadata": {},
   "outputs": [],
   "source": [
    "def abs_value(x):\n",
    "    if x.max() >= 0:\n",
    "        return x\n",
    "    else:\n",
    "        return -x"
   ]
  },
  {
   "cell_type": "code",
   "execution_count": 7,
   "id": "05a3a04a",
   "metadata": {},
   "outputs": [
    {
     "data": {
      "text/plain": [
       "(tensor(1), tensor(1))"
      ]
     },
     "execution_count": 7,
     "metadata": {},
     "output_type": "execute_result"
    }
   ],
   "source": [
    "abs_value(torch.tensor(1)), abs_value(torch.tensor(-1))"
   ]
  },
  {
   "cell_type": "code",
   "execution_count": 9,
   "id": "5c574b8d",
   "metadata": {},
   "outputs": [
    {
     "data": {
      "text/plain": [
       "tensor(10)"
      ]
     },
     "execution_count": 9,
     "metadata": {},
     "output_type": "execute_result"
    }
   ],
   "source": [
    "polino(torch.tensor(3))"
   ]
  },
  {
   "cell_type": "code",
   "execution_count": 16,
   "id": "1d551c6a",
   "metadata": {},
   "outputs": [
    {
     "name": "stderr",
     "output_type": "stream",
     "text": [
      "/var/folders/kn/tl5j9yqn33zfgmzx9gxr8mtc0000gq/T/ipykernel_97090/2282889346.py:2: TracerWarning: Converting a tensor to a Python boolean might cause the trace to be incorrect. We can't record the data flow of Python values, so this value will be treated as a constant in the future. This means that the trace might not generalize to other inputs!\n",
      "  if x.max() >= 0:\n"
     ]
    }
   ],
   "source": [
    "abs_traced = torch.jit.trace(abs_value, torch.tensor(-1))"
   ]
  },
  {
   "cell_type": "code",
   "execution_count": 11,
   "id": "62b85251",
   "metadata": {},
   "outputs": [],
   "source": [
    "polino_traced = torch.jit.trace(polino, torch.tensor(0))"
   ]
  },
  {
   "cell_type": "code",
   "execution_count": 12,
   "id": "245916aa",
   "metadata": {},
   "outputs": [
    {
     "data": {
      "text/plain": [
       "<torch.jit.ScriptFunction at 0x11053ea90>"
      ]
     },
     "execution_count": 12,
     "metadata": {},
     "output_type": "execute_result"
    }
   ],
   "source": [
    "polino_traced"
   ]
  },
  {
   "cell_type": "code",
   "execution_count": 13,
   "id": "d4d97cbc",
   "metadata": {},
   "outputs": [
    {
     "data": {
      "text/plain": [
       "tensor(10)"
      ]
     },
     "execution_count": 13,
     "metadata": {},
     "output_type": "execute_result"
    }
   ],
   "source": [
    "polino_traced(torch.tensor(3))"
   ]
  },
  {
   "cell_type": "code",
   "execution_count": 29,
   "id": "fa143cd2",
   "metadata": {},
   "outputs": [
    {
     "data": {
      "text/plain": [
       "3"
      ]
     },
     "execution_count": 29,
     "metadata": {},
     "output_type": "execute_result"
    }
   ],
   "source": [
    "torch.tensor(3).item()"
   ]
  },
  {
   "cell_type": "code",
   "execution_count": 17,
   "id": "00f93f07",
   "metadata": {},
   "outputs": [
    {
     "name": "stdout",
     "output_type": "stream",
     "text": [
      "tensor(-1) tensor(1)\n"
     ]
    }
   ],
   "source": [
    "print(abs_traced(torch.tensor(1)), abs_traced(torch.tensor(-1)))"
   ]
  },
  {
   "cell_type": "code",
   "execution_count": 41,
   "id": "782a1c95",
   "metadata": {},
   "outputs": [],
   "source": [
    "def gather(x):\n",
    "    result: List[int] = []\n",
    "    for i in range(3):\n",
    "        result.append(1)\n",
    "    return torch.tensor(result)"
   ]
  },
  {
   "cell_type": "code",
   "execution_count": 42,
   "id": "8a68a3fc",
   "metadata": {},
   "outputs": [
    {
     "data": {
      "text/plain": [
       "tensor([1, 1, 1])"
      ]
     },
     "execution_count": 42,
     "metadata": {},
     "output_type": "execute_result"
    }
   ],
   "source": [
    "gather(torch.tensor(3))"
   ]
  },
  {
   "cell_type": "code",
   "execution_count": 43,
   "id": "337139a0",
   "metadata": {},
   "outputs": [
    {
     "name": "stderr",
     "output_type": "stream",
     "text": [
      "/var/folders/kn/tl5j9yqn33zfgmzx9gxr8mtc0000gq/T/ipykernel_97090/1235154369.py:5: TracerWarning: torch.tensor results are registered as constants in the trace. You can safely ignore this warning if you use this function to create tensors out of constant variables that would be the same every time you call this function. In any other case, this might cause the trace to be incorrect.\n",
      "  return torch.tensor(result)\n"
     ]
    },
    {
     "data": {
      "text/plain": [
       "<torch.jit.ScriptFunction at 0x171f39680>"
      ]
     },
     "execution_count": 43,
     "metadata": {},
     "output_type": "execute_result"
    }
   ],
   "source": [
    "torch.jit.trace(gather, torch.tensor(2))"
   ]
  },
  {
   "cell_type": "code",
   "execution_count": 44,
   "id": "0c66c36f",
   "metadata": {},
   "outputs": [],
   "source": [
    "gather_sc = torch.jit.script(gather)"
   ]
  },
  {
   "cell_type": "code",
   "execution_count": 18,
   "id": "4b79eed0",
   "metadata": {},
   "outputs": [],
   "source": [
    "abs_script = torch.jit.script(abs_value)"
   ]
  },
  {
   "cell_type": "code",
   "execution_count": 19,
   "id": "b571257e",
   "metadata": {},
   "outputs": [
    {
     "name": "stdout",
     "output_type": "stream",
     "text": [
      "tensor(1) tensor(1)\n"
     ]
    }
   ],
   "source": [
    "print(abs_script(torch.tensor(1)), abs_script(torch.tensor(-1)))"
   ]
  },
  {
   "cell_type": "code",
   "execution_count": 20,
   "id": "724a683e",
   "metadata": {},
   "outputs": [
    {
     "name": "stderr",
     "output_type": "stream",
     "text": [
      "/Users/AlexHome/vms/effdl-inference/venv/lib/python3.9/site-packages/torch/jit/_trace.py:983: TracerWarning: Output nr 1. of the traced function does not match the corresponding output of the Python function. Detailed error:\n",
      "Tensor-likes are not close!\n",
      "\n",
      "Mismatched elements: 1000 / 1000 (100.0%)\n",
      "Greatest absolute difference: 3.2847949266433716 at index (0, 79) (up to 1e-05 allowed)\n",
      "Greatest relative difference: 362.4920894007577 at index (0, 514) (up to 1e-05 allowed)\n",
      "  _check_trace(\n"
     ]
    }
   ],
   "source": [
    "example = torch.rand(1, 3, 224, 224)\n",
    "traced_script_module = torch.jit.trace(vgg16, example)\n",
    "traced_script_module.save(\"vgg16.pt\")"
   ]
  },
  {
   "cell_type": "code",
   "execution_count": 45,
   "id": "ba0835cf",
   "metadata": {},
   "outputs": [
    {
     "data": {
      "text/plain": [
       "VGG(\n",
       "  original_name=VGG\n",
       "  (features): Sequential(\n",
       "    original_name=Sequential\n",
       "    (0): Conv2d(original_name=Conv2d)\n",
       "    (1): ReLU(original_name=ReLU)\n",
       "    (2): Conv2d(original_name=Conv2d)\n",
       "    (3): ReLU(original_name=ReLU)\n",
       "    (4): MaxPool2d(original_name=MaxPool2d)\n",
       "    (5): Conv2d(original_name=Conv2d)\n",
       "    (6): ReLU(original_name=ReLU)\n",
       "    (7): Conv2d(original_name=Conv2d)\n",
       "    (8): ReLU(original_name=ReLU)\n",
       "    (9): MaxPool2d(original_name=MaxPool2d)\n",
       "    (10): Conv2d(original_name=Conv2d)\n",
       "    (11): ReLU(original_name=ReLU)\n",
       "    (12): Conv2d(original_name=Conv2d)\n",
       "    (13): ReLU(original_name=ReLU)\n",
       "    (14): Conv2d(original_name=Conv2d)\n",
       "    (15): ReLU(original_name=ReLU)\n",
       "    (16): MaxPool2d(original_name=MaxPool2d)\n",
       "    (17): Conv2d(original_name=Conv2d)\n",
       "    (18): ReLU(original_name=ReLU)\n",
       "    (19): Conv2d(original_name=Conv2d)\n",
       "    (20): ReLU(original_name=ReLU)\n",
       "    (21): Conv2d(original_name=Conv2d)\n",
       "    (22): ReLU(original_name=ReLU)\n",
       "    (23): MaxPool2d(original_name=MaxPool2d)\n",
       "    (24): Conv2d(original_name=Conv2d)\n",
       "    (25): ReLU(original_name=ReLU)\n",
       "    (26): Conv2d(original_name=Conv2d)\n",
       "    (27): ReLU(original_name=ReLU)\n",
       "    (28): Conv2d(original_name=Conv2d)\n",
       "    (29): ReLU(original_name=ReLU)\n",
       "    (30): MaxPool2d(original_name=MaxPool2d)\n",
       "  )\n",
       "  (avgpool): AdaptiveAvgPool2d(original_name=AdaptiveAvgPool2d)\n",
       "  (classifier): Sequential(\n",
       "    original_name=Sequential\n",
       "    (0): Linear(original_name=Linear)\n",
       "    (1): ReLU(original_name=ReLU)\n",
       "    (2): Dropout(original_name=Dropout)\n",
       "    (3): Linear(original_name=Linear)\n",
       "    (4): ReLU(original_name=ReLU)\n",
       "    (5): Dropout(original_name=Dropout)\n",
       "    (6): Linear(original_name=Linear)\n",
       "  )\n",
       ")"
      ]
     },
     "execution_count": 45,
     "metadata": {},
     "output_type": "execute_result"
    }
   ],
   "source": [
    "traced_script_module"
   ]
  },
  {
   "cell_type": "code",
   "execution_count": null,
   "id": "c384e169",
   "metadata": {},
   "outputs": [],
   "source": []
  },
  {
   "cell_type": "code",
   "execution_count": null,
   "id": "61712b83",
   "metadata": {},
   "outputs": [],
   "source": []
  }
 ],
 "metadata": {
  "kernelspec": {
   "display_name": "Python 3 (ipykernel)",
   "language": "python",
   "name": "python3"
  },
  "language_info": {
   "codemirror_mode": {
    "name": "ipython",
    "version": 3
   },
   "file_extension": ".py",
   "mimetype": "text/x-python",
   "name": "python",
   "nbconvert_exporter": "python",
   "pygments_lexer": "ipython3",
   "version": "3.9.6"
  }
 },
 "nbformat": 4,
 "nbformat_minor": 5
}
