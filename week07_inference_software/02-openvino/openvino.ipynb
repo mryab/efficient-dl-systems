{
 "cells": [
  {
   "cell_type": "code",
   "execution_count": 1,
   "id": "560cb20e",
   "metadata": {},
   "outputs": [
    {
     "name": "stdout",
     "output_type": "stream",
     "text": [
      "Requirement already satisfied: openvino==2021.4.2 in /Users/AlexHome/vms/effdl-inference/venv/lib/python3.9/site-packages (2021.4.2)\n",
      "Requirement already satisfied: openvino-dev==2021.4.2 in /Users/AlexHome/vms/effdl-inference/venv/lib/python3.9/site-packages (2021.4.2)\n",
      "Collecting numpy<1.20,>=1.16.6\n",
      "  Using cached numpy-1.19.5-cp39-cp39-macosx_10_9_x86_64.whl (15.6 MB)\n",
      "Requirement already satisfied: scikit-learn>=0.24.1 in /Users/AlexHome/vms/effdl-inference/venv/lib/python3.9/site-packages (from openvino-dev==2021.4.2) (1.0.2)\n",
      "Requirement already satisfied: progress>=1.5 in /Users/AlexHome/vms/effdl-inference/venv/lib/python3.9/site-packages (from openvino-dev==2021.4.2) (1.6)\n",
      "Requirement already satisfied: tqdm>=4.54.1 in /Users/AlexHome/vms/effdl-inference/venv/lib/python3.9/site-packages (from openvino-dev==2021.4.2) (4.62.3)\n",
      "Requirement already satisfied: yamlloader>=0.5 in /Users/AlexHome/vms/effdl-inference/venv/lib/python3.9/site-packages (from openvino-dev==2021.4.2) (1.1.0)\n",
      "Requirement already satisfied: networkx~=2.5 in /Users/AlexHome/vms/effdl-inference/venv/lib/python3.9/site-packages (from openvino-dev==2021.4.2) (2.6.3)\n",
      "Requirement already satisfied: addict>=2.4.0 in /Users/AlexHome/vms/effdl-inference/venv/lib/python3.9/site-packages (from openvino-dev==2021.4.2) (2.4.0)\n",
      "Requirement already satisfied: scipy~=1.5.4 in /Users/AlexHome/vms/effdl-inference/venv/lib/python3.9/site-packages (from openvino-dev==2021.4.2) (1.5.4)\n",
      "Requirement already satisfied: py-cpuinfo>=7.0.0 in /Users/AlexHome/vms/effdl-inference/venv/lib/python3.9/site-packages (from openvino-dev==2021.4.2) (8.0.0)\n",
      "Requirement already satisfied: scikit-image>=0.17.2 in /Users/AlexHome/vms/effdl-inference/venv/lib/python3.9/site-packages (from openvino-dev==2021.4.2) (0.19.2)\n",
      "Requirement already satisfied: tokenizers>=0.10.1 in /Users/AlexHome/vms/effdl-inference/venv/lib/python3.9/site-packages (from openvino-dev==2021.4.2) (0.11.5)\n",
      "Requirement already satisfied: jstyleson~=0.0.2 in /Users/AlexHome/vms/effdl-inference/venv/lib/python3.9/site-packages (from openvino-dev==2021.4.2) (0.0.2)\n",
      "Requirement already satisfied: nibabel>=3.2.1 in /Users/AlexHome/vms/effdl-inference/venv/lib/python3.9/site-packages (from openvino-dev==2021.4.2) (3.2.2)\n",
      "Requirement already satisfied: pandas~=1.1.5 in /Users/AlexHome/vms/effdl-inference/venv/lib/python3.9/site-packages (from openvino-dev==2021.4.2) (1.1.5)\n",
      "Requirement already satisfied: fast-ctc-decode>=0.2.5 in /Users/AlexHome/vms/effdl-inference/venv/lib/python3.9/site-packages (from openvino-dev==2021.4.2) (0.3.0)\n",
      "Requirement already satisfied: shapely>=1.7.1 in /Users/AlexHome/vms/effdl-inference/venv/lib/python3.9/site-packages (from openvino-dev==2021.4.2) (1.8.1.post1)\n",
      "Requirement already satisfied: pillow>=8.1.2 in /Users/AlexHome/vms/effdl-inference/venv/lib/python3.9/site-packages (from openvino-dev==2021.4.2) (9.0.1)\n",
      "Requirement already satisfied: editdistance>=0.5.3 in /Users/AlexHome/vms/effdl-inference/venv/lib/python3.9/site-packages (from openvino-dev==2021.4.2) (0.6.0)\n",
      "Requirement already satisfied: nltk>=3.5 in /Users/AlexHome/vms/effdl-inference/venv/lib/python3.9/site-packages (from openvino-dev==2021.4.2) (3.7)\n",
      "Requirement already satisfied: sentencepiece>=0.1.95 in /Users/AlexHome/vms/effdl-inference/venv/lib/python3.9/site-packages (from openvino-dev==2021.4.2) (0.1.96)\n",
      "Requirement already satisfied: hyperopt~=0.1.2 in /Users/AlexHome/vms/effdl-inference/venv/lib/python3.9/site-packages (from openvino-dev==2021.4.2) (0.1.2)\n",
      "Requirement already satisfied: parasail>=1.2.4 in /Users/AlexHome/vms/effdl-inference/venv/lib/python3.9/site-packages (from openvino-dev==2021.4.2) (1.2.4)\n",
      "Requirement already satisfied: PyYAML>=5.4.1 in /Users/AlexHome/vms/effdl-inference/venv/lib/python3.9/site-packages (from openvino-dev==2021.4.2) (6.0)\n",
      "Requirement already satisfied: opencv-python==4.5.* in /Users/AlexHome/vms/effdl-inference/venv/lib/python3.9/site-packages (from openvino-dev==2021.4.2) (4.5.5.62)\n",
      "Requirement already satisfied: rawpy>=0.16.0 in /Users/AlexHome/vms/effdl-inference/venv/lib/python3.9/site-packages (from openvino-dev==2021.4.2) (0.17.0)\n",
      "Requirement already satisfied: defusedxml>=0.7.1 in /Users/AlexHome/vms/effdl-inference/venv/lib/python3.9/site-packages (from openvino-dev==2021.4.2) (0.7.1)\n",
      "Requirement already satisfied: requests>=2.25.1 in /Users/AlexHome/vms/effdl-inference/venv/lib/python3.9/site-packages (from openvino-dev==2021.4.2) (2.27.1)\n",
      "Requirement already satisfied: texttable~=1.6.3 in /Users/AlexHome/vms/effdl-inference/venv/lib/python3.9/site-packages (from openvino-dev==2021.4.2) (1.6.4)\n",
      "Requirement already satisfied: pydicom>=2.1.2 in /Users/AlexHome/vms/effdl-inference/venv/lib/python3.9/site-packages (from openvino-dev==2021.4.2) (2.2.2)\n",
      "Requirement already satisfied: pymongo in /Users/AlexHome/vms/effdl-inference/venv/lib/python3.9/site-packages (from hyperopt~=0.1.2->openvino-dev==2021.4.2) (4.0.1)\n",
      "Requirement already satisfied: future in /Users/AlexHome/vms/effdl-inference/venv/lib/python3.9/site-packages (from hyperopt~=0.1.2->openvino-dev==2021.4.2) (0.18.2)\n",
      "Requirement already satisfied: six in /Users/AlexHome/vms/effdl-inference/venv/lib/python3.9/site-packages (from hyperopt~=0.1.2->openvino-dev==2021.4.2) (1.16.0)\n",
      "Requirement already satisfied: packaging>=14.3 in /Users/AlexHome/vms/effdl-inference/venv/lib/python3.9/site-packages (from nibabel>=3.2.1->openvino-dev==2021.4.2) (21.3)\n",
      "Requirement already satisfied: setuptools in /Users/AlexHome/vms/effdl-inference/venv/lib/python3.9/site-packages (from nibabel>=3.2.1->openvino-dev==2021.4.2) (59.7.0)\n",
      "Requirement already satisfied: click in /Users/AlexHome/vms/effdl-inference/venv/lib/python3.9/site-packages (from nltk>=3.5->openvino-dev==2021.4.2) (8.0.3)\n",
      "Requirement already satisfied: regex>=2021.8.3 in /Users/AlexHome/vms/effdl-inference/venv/lib/python3.9/site-packages (from nltk>=3.5->openvino-dev==2021.4.2) (2022.1.18)\n",
      "Requirement already satisfied: joblib in /Users/AlexHome/vms/effdl-inference/venv/lib/python3.9/site-packages (from nltk>=3.5->openvino-dev==2021.4.2) (1.1.0)\n",
      "Requirement already satisfied: pytz>=2017.2 in /Users/AlexHome/vms/effdl-inference/venv/lib/python3.9/site-packages (from pandas~=1.1.5->openvino-dev==2021.4.2) (2021.3)\n",
      "Requirement already satisfied: python-dateutil>=2.7.3 in /Users/AlexHome/vms/effdl-inference/venv/lib/python3.9/site-packages (from pandas~=1.1.5->openvino-dev==2021.4.2) (2.8.2)\n",
      "Requirement already satisfied: idna<4,>=2.5 in /Users/AlexHome/vms/effdl-inference/venv/lib/python3.9/site-packages (from requests>=2.25.1->openvino-dev==2021.4.2) (3.3)\n",
      "Requirement already satisfied: charset-normalizer~=2.0.0 in /Users/AlexHome/vms/effdl-inference/venv/lib/python3.9/site-packages (from requests>=2.25.1->openvino-dev==2021.4.2) (2.0.11)\n",
      "Requirement already satisfied: certifi>=2017.4.17 in /Users/AlexHome/vms/effdl-inference/venv/lib/python3.9/site-packages (from requests>=2.25.1->openvino-dev==2021.4.2) (2021.10.8)\n",
      "Requirement already satisfied: urllib3<1.27,>=1.21.1 in /Users/AlexHome/vms/effdl-inference/venv/lib/python3.9/site-packages (from requests>=2.25.1->openvino-dev==2021.4.2) (1.26.8)\n",
      "Requirement already satisfied: tifffile>=2019.7.26 in /Users/AlexHome/vms/effdl-inference/venv/lib/python3.9/site-packages (from scikit-image>=0.17.2->openvino-dev==2021.4.2) (2022.2.9)\n",
      "Requirement already satisfied: PyWavelets>=1.1.1 in /Users/AlexHome/vms/effdl-inference/venv/lib/python3.9/site-packages (from scikit-image>=0.17.2->openvino-dev==2021.4.2) (1.2.0)\n",
      "Requirement already satisfied: imageio>=2.4.1 in /Users/AlexHome/vms/effdl-inference/venv/lib/python3.9/site-packages (from scikit-image>=0.17.2->openvino-dev==2021.4.2) (2.15.0)\n",
      "Requirement already satisfied: threadpoolctl>=2.0.0 in /Users/AlexHome/vms/effdl-inference/venv/lib/python3.9/site-packages (from scikit-learn>=0.24.1->openvino-dev==2021.4.2) (3.1.0)\n",
      "Requirement already satisfied: pyparsing!=3.0.5,>=2.0.2 in /Users/AlexHome/vms/effdl-inference/venv/lib/python3.9/site-packages (from packaging>=14.3->nibabel>=3.2.1->openvino-dev==2021.4.2) (3.0.6)\n",
      "Installing collected packages: numpy\n",
      "  Attempting uninstall: numpy\n",
      "    Found existing installation: numpy 1.22.2\n"
     ]
    },
    {
     "name": "stdout",
     "output_type": "stream",
     "text": [
      "    Uninstalling numpy-1.22.2:\n",
      "      Successfully uninstalled numpy-1.22.2\n",
      "\u001B[31mERROR: pip's dependency resolver does not currently take into account all the packages that are installed. This behaviour is the source of the following dependency conflicts.\n",
      "tensorflow 2.8.0 requires numpy>=1.20, but you have numpy 1.19.5 which is incompatible.\u001B[0m\n",
      "Successfully installed numpy-1.19.5\n",
      "\u001B[33mWARNING: You are using pip version 21.3.1; however, version 22.0.3 is available.\n",
      "You should consider upgrading via the '/Users/AlexHome/vms/effdl-inference/venv/bin/python -m pip install --upgrade pip' command.\u001B[0m\n"
     ]
    }
   ],
   "source": [
    "! pip install openvino==2021.4.2 openvino-dev==2021.4.2"
   ]
  },
  {
   "cell_type": "code",
   "execution_count": 24,
   "id": "01e2f4fb",
   "metadata": {},
   "outputs": [],
   "source": [
    "import torchvision.models as models\n",
    "import torch\n",
    "\n",
    "vgg16 = models.vgg16(pretrained=True)\n",
    "\n",
    "example = torch.rand(1, 3, 224, 224)\n",
    "torch.onnx.export(vgg16, example, \"vgg16.onnx\", verbose=False)"
   ]
  },
  {
   "cell_type": "code",
   "execution_count": 25,
   "id": "d90881d0",
   "metadata": {},
   "outputs": [
    {
     "name": "stdout",
     "output_type": "stream",
     "text": [
      "Model Optimizer arguments:\n",
      "Common parameters:\n",
      "\t- Path to the Input Model: \t/Users/AlexHome/vms/effdl-inference/07-software-inference/02-openvino/vgg16.onnx\n",
      "\t- Path for generated IR: \t/Users/AlexHome/vms/effdl-inference/07-software-inference/02-openvino/vgg16.vino\n",
      "\t- IR output name: \tvgg16\n",
      "\t- Log level: \tERROR\n",
      "\t- Batch: \tNot specified, inherited from the model\n",
      "\t- Input layers: \tNot specified, inherited from the model\n",
      "\t- Output layers: \tNot specified, inherited from the model\n",
      "\t- Input shapes: \tNot specified, inherited from the model\n",
      "\t- Mean values: \tNot specified\n",
      "\t- Scale values: \tNot specified\n",
      "\t- Scale factor: \tNot specified\n",
      "\t- Precision of IR: \tFP32\n",
      "\t- Enable fusing: \tTrue\n",
      "\t- Enable grouped convolutions fusing: \tTrue\n",
      "\t- Move mean values to preprocess section: \tNone\n",
      "\t- Reverse input channels: \tFalse\n",
      "ONNX specific parameters:\n",
      "\t- Inference Engine found in: \t/Users/AlexHome/vms/effdl-inference/venv/lib/python3.9/site-packages/openvino\n",
      "Inference Engine version: \t2021.4.2-3976-0943ed67223-refs/pull/539/head\n",
      "Model Optimizer version: \t2021.4.2-3976-0943ed67223-refs/pull/539/head\n",
      "[ SUCCESS ] Generated IR version 10 model.\n",
      "[ SUCCESS ] XML file: /Users/AlexHome/vms/effdl-inference/07-software-inference/02-openvino/vgg16.vino/vgg16.xml\n",
      "[ SUCCESS ] BIN file: /Users/AlexHome/vms/effdl-inference/07-software-inference/02-openvino/vgg16.vino/vgg16.bin\n",
      "[ SUCCESS ] Total execution time: 7.66 seconds. \n",
      "[ SUCCESS ] Memory consumed: 1691 MB. \n",
      "It's been a while, check for a new version of Intel(R) Distribution of OpenVINO(TM) toolkit here https://software.intel.com/content/www/us/en/develop/tools/openvino-toolkit/download.html?cid=other&source=prod&campid=ww_2022_bu_IOTG_OpenVINO-2022-1&content=upg_all&medium=organic or on the GitHub*\n"
     ]
    }
   ],
   "source": [
    "! mo --input_model vgg16.onnx --output_dir vgg16.vino"
   ]
  },
  {
   "cell_type": "code",
   "execution_count": 26,
   "id": "1ff842a7",
   "metadata": {},
   "outputs": [
    {
     "name": "stdout",
     "output_type": "stream",
     "text": [
      "vgg16.bin     vgg16.mapping vgg16.xml\r\n"
     ]
    }
   ],
   "source": [
    "! ls vgg16.vino/"
   ]
  },
  {
   "cell_type": "code",
   "execution_count": 5,
   "id": "4c235b02",
   "metadata": {},
   "outputs": [
    {
     "name": "stdout",
     "output_type": "stream",
     "text": [
      "<?xml version=\"1.0\" ?>\r\n",
      "<net name=\"vgg16\" version=\"10\">\r\n",
      "\t<layers>\r\n",
      "\t\t<layer id=\"0\" name=\"input.1\" type=\"Parameter\" version=\"opset1\">\r\n",
      "\t\t\t<data shape=\"1, 3, 224, 224\" element_type=\"f32\"/>\r\n",
      "\t\t\t<output>\r\n",
      "\t\t\t\t<port id=\"0\" precision=\"FP32\" names=\"input.1\">\r\n",
      "\t\t\t\t\t<dim>1</dim>\r\n",
      "\t\t\t\t\t<dim>3</dim>\r\n",
      "\t\t\t\t\t<dim>224</dim>\r\n",
      "\t\t\t\t\t<dim>224</dim>\r\n",
      "\t\t\t\t</port>\r\n",
      "\t\t\t</output>\r\n",
      "\t\t</layer>\r\n",
      "\t\t<layer id=\"1\" name=\"features.0.weight\" type=\"Const\" version=\"opset1\">\r\n",
      "\t\t\t<data element_type=\"f32\" shape=\"64, 3, 3, 3\" offset=\"0\" size=\"6912\"/>\r\n",
      "\t\t\t<output>\r\n",
      "\t\t\t\t<port id=\"0\" precision=\"FP32\" names=\"features.0.weight\">\r\n",
      "\t\t\t\t\t<dim>64</dim>\r\n",
      "\t\t\t\t\t<dim>3</dim>\r\n",
      "\t\t\t\t\t<dim>3</dim>\r\n",
      "\t\t\t\t\t<dim>3</dim>\r\n",
      "\t\t\t\t</port>\r\n",
      "\t\t\t</output>\r\n",
      "\t\t</layer>\r\n",
      "\t\t<layer id=\"2\" name=\"Conv_0/WithoutBiases\" type=\"Convolution\" version=\"opset1\">\r\n",
      "\t\t\t<data strides=\"1, 1\" dilations=\"1, 1\" pads_begin=\"1, 1\" pads_end=\"1, 1\" auto_pad=\"explicit\"/>\r\n",
      "\t\t\t<input>\r\n",
      "\t\t\t\t<port id=\"0\" precision=\"FP32\">\r\n",
      "\t\t\t\t\t<dim>1</dim>\r\n",
      "\t\t\t\t\t<dim>3</dim>\r\n",
      "\t\t\t\t\t<dim>224</dim>\r\n",
      "\t\t\t\t\t<dim>224</dim>\r\n",
      "\t\t\t\t</port>\r\n",
      "\t\t\t\t<port id=\"1\" precision=\"FP32\">\r\n",
      "\t\t\t\t\t<dim>64</dim>\r\n",
      "\t\t\t\t\t<dim>3</dim>\r\n",
      "\t\t\t\t\t<dim>3</dim>\r\n",
      "\t\t\t\t\t<dim>3</dim>\r\n",
      "\t\t\t\t</port>\r\n",
      "\t\t\t</input>\r\n",
      "\t\t\t<output>\r\n",
      "\t\t\t\t<port id=\"2\" precision=\"FP32\">\r\n",
      "\t\t\t\t\t<dim>1</dim>\r\n",
      "\t\t\t\t\t<dim>64</dim>\r\n",
      "\t\t\t\t\t<dim>224</dim>\r\n",
      "\t\t\t\t\t<dim>224</dim>\r\n",
      "\t\t\t\t</port>\r\n",
      "\t\t\t</output>\r\n",
      "\t\t</layer>\r\n",
      "\t\t<layer id=\"3\" name=\"Conv_0/Dims628\" type=\"Const\" version=\"opset1\">\r\n",
      "\t\t\t<data element_type=\"f32\" shape=\"1, 64, 1, 1\" offset=\"6912\" size=\"256\"/>\r\n",
      "\t\t\t<output>\r\n",
      "\t\t\t\t<port id=\"0\" precision=\"FP32\">\r\n",
      "\t\t\t\t\t<dim>1</dim>\r\n",
      "\t\t\t\t\t<dim>64</dim>\r\n",
      "\t\t\t\t\t<dim>1</dim>\r\n",
      "\t\t\t\t\t<dim>1</dim>\r\n",
      "\t\t\t\t</port>\r\n",
      "\t\t\t</output>\r\n",
      "\t\t</layer>\r\n",
      "\t\t<layer id=\"4\" name=\"Conv_0\" type=\"Add\" version=\"opset1\">\r\n",
      "\t\t\t<data auto_broadcast=\"numpy\"/>\r\n",
      "\t\t\t<input>\r\n",
      "\t\t\t\t<port id=\"0\" precision=\"FP32\">\r\n",
      "\t\t\t\t\t<dim>1</dim>\r\n",
      "\t\t\t\t\t<dim>64</dim>\r\n",
      "\t\t\t\t\t<dim>224</dim>\r\n",
      "\t\t\t\t\t<dim>224</dim>\r\n",
      "\t\t\t\t</port>\r\n",
      "\t\t\t\t<port id=\"1\" precision=\"FP32\">\r\n",
      "\t\t\t\t\t<dim>1</dim>\r\n",
      "\t\t\t\t\t<dim>64</dim>\r\n",
      "\t\t\t\t\t<dim>1</dim>\r\n",
      "\t\t\t\t\t<dim>1</dim>\r\n",
      "\t\t\t\t</port>\r\n",
      "\t\t\t</input>\r\n",
      "\t\t\t<output>\r\n",
      "\t\t\t\t<port id=\"2\" precision=\"FP32\" names=\"33\">\r\n",
      "\t\t\t\t\t<dim>1</dim>\r\n",
      "\t\t\t\t\t<dim>64</dim>\r\n",
      "\t\t\t\t\t<dim>224</dim>\r\n",
      "\t\t\t\t\t<dim>224</dim>\r\n",
      "\t\t\t\t</port>\r\n",
      "\t\t\t</output>\r\n",
      "\t\t</layer>\r\n",
      "\t\t<layer id=\"5\" name=\"Relu_1\" type=\"ReLU\" version=\"opset1\">\r\n",
      "\t\t\t<input>\r\n",
      "\t\t\t\t<port id=\"0\" precision=\"FP32\">\r\n",
      "\t\t\t\t\t<dim>1</dim>\r\n",
      "\t\t\t\t\t<dim>64</dim>\r\n",
      "\t\t\t\t\t<dim>224</dim>\r\n",
      "\t\t\t\t\t<dim>224</dim>\r\n",
      "\t\t\t\t</port>\r\n",
      "\t\t\t</input>\r\n",
      "\t\t\t<output>\r\n",
      "\t\t\t\t<port id=\"1\" precision=\"FP32\" names=\"34\">\r\n",
      "\t\t\t\t\t<dim>1</dim>\r\n",
      "\t\t\t\t\t<dim>64</dim>\r\n",
      "\t\t\t\t\t<dim>224</dim>\r\n"
     ]
    }
   ],
   "source": [
    "! head -n 100 vgg16.vino/vgg16.xml"
   ]
  },
  {
   "cell_type": "code",
   "execution_count": 6,
   "id": "254445f6",
   "metadata": {},
   "outputs": [],
   "source": [
    "from openvino.inference_engine import IECore\n",
    "\n",
    "ie = IECore()"
   ]
  },
  {
   "cell_type": "code",
   "execution_count": 7,
   "id": "e939e29d",
   "metadata": {},
   "outputs": [
    {
     "name": "stdout",
     "output_type": "stream",
     "text": [
      "CPU: Intel(R) Core(TM) i9-9880H CPU @ 2.30GHz\n"
     ]
    }
   ],
   "source": [
    "devices = ie.available_devices\n",
    "for device in devices:\n",
    "    device_name = ie.get_metric(device_name=device, metric_name=\"FULL_DEVICE_NAME\")\n",
    "    print(f\"{device}: {device_name}\")"
   ]
  },
  {
   "cell_type": "code",
   "execution_count": 8,
   "id": "bace7b19",
   "metadata": {},
   "outputs": [
    {
     "data": {
      "text/plain": [
       "['CPU']"
      ]
     },
     "execution_count": 8,
     "metadata": {},
     "output_type": "execute_result"
    }
   ],
   "source": [
    "devices"
   ]
  },
  {
   "cell_type": "code",
   "execution_count": 9,
   "id": "beeb8336",
   "metadata": {},
   "outputs": [],
   "source": [
    "net = ie.read_network(model=\"vgg16.vino/vgg16.xml\")\n",
    "exec_net = ie.load_network(network=net, device_name=\"CPU\")"
   ]
  },
  {
   "cell_type": "code",
   "execution_count": 10,
   "id": "c63d2430",
   "metadata": {},
   "outputs": [
    {
     "data": {
      "text/plain": [
       "{'input.1': <openvino.inference_engine.ie_api.InputInfoPtr at 0x110a9b5d0>}"
      ]
     },
     "execution_count": 10,
     "metadata": {},
     "output_type": "execute_result"
    }
   ],
   "source": [
    "net.input_info"
   ]
  },
  {
   "cell_type": "code",
   "execution_count": 11,
   "id": "82d95b5b",
   "metadata": {},
   "outputs": [
    {
     "data": {
      "text/plain": [
       "'input.1'"
      ]
     },
     "execution_count": 11,
     "metadata": {},
     "output_type": "execute_result"
    }
   ],
   "source": [
    "input_layer = next(iter(net.input_info))\n",
    "input_layer"
   ]
  },
  {
   "cell_type": "code",
   "execution_count": 12,
   "id": "a809c1cc",
   "metadata": {},
   "outputs": [
    {
     "name": "stdout",
     "output_type": "stream",
     "text": [
      "input layout: NCHW\n",
      "input precision: FP32\n",
      "input shape: [1, 3, 224, 224]\n"
     ]
    }
   ],
   "source": [
    "print(f\"input layout: {net.input_info[input_layer].layout}\")\n",
    "print(f\"input precision: {net.input_info[input_layer].precision}\")\n",
    "print(f\"input shape: {net.input_info[input_layer].tensor_desc.dims}\")"
   ]
  },
  {
   "cell_type": "code",
   "execution_count": 13,
   "id": "d295fb22",
   "metadata": {},
   "outputs": [
    {
     "name": "stdout",
     "output_type": "stream",
     "text": [
      "output layout: NC\n",
      "output precision: FP32\n",
      "output shape: [1, 1000]\n"
     ]
    }
   ],
   "source": [
    "output_layer = next(iter(net.outputs))\n",
    "print(f\"output layout: {net.outputs[output_layer].layout}\")\n",
    "print(f\"output precision: {net.outputs[output_layer].precision}\")\n",
    "print(f\"output shape: {net.outputs[output_layer].shape}\")"
   ]
  },
  {
   "cell_type": "code",
   "execution_count": 14,
   "id": "37bc41dc",
   "metadata": {},
   "outputs": [],
   "source": [
    "import torchvision.transforms as transforms\n",
    "\n",
    "transform_pipeline = transforms.Compose([\n",
    "    transforms.Resize(224),\n",
    "    transforms.ToTensor(),\n",
    "    transforms.Normalize(mean=[0.485, 0.456, 0.406],std=[0.229, 0.224, 0.225])\n",
    "])\n",
    "\n",
    "\n",
    "def prepare(img_path):\n",
    "    image = Image.open(img_path)\n",
    "    img_data = transform_pipeline(image).unsqueeze(0)\n",
    "    data = np.array(img_data)\n",
    "    return data"
   ]
  },
  {
   "cell_type": "code",
   "execution_count": 15,
   "id": "595d6393",
   "metadata": {},
   "outputs": [
    {
     "data": {
      "text/plain": [
       "'input.1'"
      ]
     },
     "execution_count": 15,
     "metadata": {},
     "output_type": "execute_result"
    }
   ],
   "source": [
    "input_layer"
   ]
  },
  {
   "cell_type": "code",
   "execution_count": 16,
   "id": "7725ddb7",
   "metadata": {},
   "outputs": [],
   "source": [
    "import numpy as np\n",
    "from IPython.display import display\n",
    "from PIL import Image\n",
    "\n",
    "img = prepare('1200px-Cat03.jpg')"
   ]
  },
  {
   "cell_type": "code",
   "execution_count": 18,
   "id": "fb49f5af",
   "metadata": {},
   "outputs": [
    {
     "data": {
      "text/plain": [
       "'input.1'"
      ]
     },
     "execution_count": 18,
     "metadata": {},
     "output_type": "execute_result"
    }
   ],
   "source": [
    "input_layer"
   ]
  },
  {
   "cell_type": "code",
   "execution_count": 19,
   "id": "0de4567b",
   "metadata": {},
   "outputs": [
    {
     "data": {
      "text/plain": [
       "{'70': array([[-5.11787319e+00, -9.00457442e-01, -1.33539951e+00,\n",
       "         -3.37547809e-02, -1.62641668e+00,  1.24357975e+00,\n",
       "         -1.14814985e+00,  1.55837834e-02,  2.63606358e+00,\n",
       "         -3.83762908e+00, -1.54843235e+00, -2.95213914e+00,\n",
       "          1.23569787e+00, -7.08230615e-01, -3.13737106e+00,\n",
       "         -7.40746796e-01, -4.38675374e-01,  1.04632042e-01,\n",
       "         -2.55209517e+00, -3.68814874e+00, -2.86074638e+00,\n",
       "         -3.22845531e+00, -4.80303001e+00, -3.59836626e+00,\n",
       "         -2.71968842e+00, -4.30782700e+00, -4.68665457e+00,\n",
       "         -2.75465584e+00, -4.50009346e+00, -2.30202293e+00,\n",
       "         -1.76955783e+00, -2.61921239e+00, -2.64150214e+00,\n",
       "         -3.41213751e+00, -3.77243614e+00, -4.06072760e+00,\n",
       "         -1.76341093e+00, -3.37075043e+00, -7.38503337e-01,\n",
       "         -2.89529181e+00, -6.44332588e-01, -2.17674804e+00,\n",
       "         -2.18159175e+00, -2.43516064e+00, -1.87657809e+00,\n",
       "         -4.09389162e+00, -1.22118831e+00, -2.08098173e+00,\n",
       "         -4.20933580e+00, -5.28374004e+00, -4.99163961e+00,\n",
       "         -2.21688676e+00, -1.33076322e+00, -2.40737939e+00,\n",
       "         -9.36227798e-01, -3.22439623e+00, -2.69655848e+00,\n",
       "         -3.23115277e+00, -2.46522212e+00, -1.96710932e+00,\n",
       "         -6.99338913e-01, -1.56396902e+00, -3.68775487e+00,\n",
       "         -2.06565976e+00, -3.32882881e+00, -2.72819495e+00,\n",
       "         -2.22726673e-01, -6.05745137e-01, -1.73685288e+00,\n",
       "          1.99829876e-01, -9.21900332e-01, -2.23565626e+00,\n",
       "         -2.58630085e+00, -2.23256898e+00, -2.29565930e+00,\n",
       "         -8.42403829e-01, -2.87724686e+00, -2.22009015e+00,\n",
       "          1.10498659e-01, -8.03431809e-01, -3.64317822e+00,\n",
       "         -5.83153820e+00, -4.80614215e-01, -2.53787279e+00,\n",
       "         -1.95866287e+00, -1.72499955e+00,  1.22185156e-01,\n",
       "         -1.18820727e+00, -1.62044489e+00, -2.91917443e+00,\n",
       "         -2.19756770e+00, -5.10958529e+00, -3.29277349e+00,\n",
       "         -4.31481314e+00, -9.67788815e-01, -6.42027330e+00,\n",
       "         -3.61631155e+00, -1.93367136e+00, -5.24608421e+00,\n",
       "         -2.12493563e+00, -2.53473926e+00, -6.33171177e+00,\n",
       "         -2.98096490e+00, -1.62920558e+00,  1.51684153e+00,\n",
       "         -2.91171241e+00,  3.51494122e+00, -2.28377104e+00,\n",
       "         -1.39374399e+00, -1.68552065e+00, -2.38106561e+00,\n",
       "         -1.45689535e+00,  4.20356655e+00, -8.30517337e-02,\n",
       "          1.24594355e+00, -1.56890357e+00, -4.03660727e+00,\n",
       "          9.16045010e-01, -1.57877219e+00, -4.68922758e+00,\n",
       "         -6.60227203e+00, -2.97799206e+00, -1.64430749e+00,\n",
       "         -1.51356268e+00,  6.15829766e-01, -1.44221365e+00,\n",
       "         -1.97196949e+00, -6.24002790e+00, -7.36614323e+00,\n",
       "         -5.20434952e+00, -1.71395755e+00, -5.06714916e+00,\n",
       "         -4.62529373e+00, -1.01206017e+00, -3.51042604e+00,\n",
       "         -5.24920464e+00, -1.77014601e+00, -3.57654381e+00,\n",
       "         -2.81369472e+00, -3.57227969e+00, -1.06895733e+00,\n",
       "         -1.99388659e+00, -1.73973823e+00, -3.99062276e+00,\n",
       "         -4.11070919e+00, -3.27149010e+00, -4.74615812e+00,\n",
       "         -5.78312635e+00, -3.42750072e+00, -3.63926196e+00,\n",
       "          2.27925038e+00,  6.91051292e+00, -2.31281066e+00,\n",
       "         -1.87896574e+00,  1.05879033e+00, -7.07552910e-01,\n",
       "         -8.37689996e-01, -1.70417845e+00,  1.97571671e+00,\n",
       "          1.60275137e+00, -2.18955517e+00,  1.46268225e+00,\n",
       "          6.04516327e-01,  2.39381623e+00, -2.59747118e-01,\n",
       "         -2.03625107e+00, -2.07069683e+00, -3.12847710e+00,\n",
       "          3.87802052e+00, -3.20943618e+00, -2.75977898e+00,\n",
       "          2.97954845e+00,  1.27724922e+00,  5.31890106e+00,\n",
       "          1.94986999e+00, -3.18225002e+00,  5.23023784e-01,\n",
       "         -4.38794661e+00,  2.43389177e+00,  1.43151176e+00,\n",
       "          1.54458678e+00, -3.15047264e+00,  1.62380040e+00,\n",
       "         -2.73304772e+00,  2.10244846e+00,  4.39975548e+00,\n",
       "          6.44508648e+00,  2.16218829e+00, -1.78529394e+00,\n",
       "          1.12010062e+00, -3.78102565e+00, -3.21516514e-01,\n",
       "          2.06076193e+00,  4.01372242e+00, -1.27537024e+00,\n",
       "          2.31877494e+00,  1.16158199e+00, -3.10841501e-01,\n",
       "          1.10367000e-01,  1.83738089e+00, -9.51285183e-01,\n",
       "          1.90020278e-01,  2.49899954e-01,  1.33238256e+00,\n",
       "          1.87206492e-01, -1.07349265e+00, -1.91208422e+00,\n",
       "          2.13256168e+00,  3.78306127e+00,  3.47703385e+00,\n",
       "         -2.97197640e-01,  2.74887896e+00, -1.22195899e+00,\n",
       "          2.77358085e-01, -3.56147242e+00,  6.99282765e-01,\n",
       "         -2.26020265e+00, -1.64549387e+00,  4.53772306e-01,\n",
       "          1.94100559e+00, -9.53586340e-01, -3.61636972e+00,\n",
       "         -2.14800644e+00,  2.61793447e+00, -2.90022194e-01,\n",
       "          2.84815598e+00, -2.29265499e+00,  6.11401415e+00,\n",
       "         -3.91467929e+00, -4.09239531e+00, -1.65851688e+00,\n",
       "         -7.14408234e-02,  4.87825036e-01, -8.74181330e-01,\n",
       "         -1.62035257e-01,  2.33713365e+00,  8.28705847e-01,\n",
       "          3.64268708e+00,  1.38266969e+00, -1.60665143e+00,\n",
       "         -1.06142424e-01, -9.08622086e-01,  8.98945153e-01,\n",
       "          2.55707598e+00, -2.17556930e+00,  5.06881475e+00,\n",
       "          1.21744144e+00, -7.38649547e-01,  4.82514954e+00,\n",
       "          5.78769326e-01,  4.47727108e+00,  5.76342940e-01,\n",
       "         -2.53195047e+00,  5.86970282e+00,  8.75297427e-01,\n",
       "         -1.82030630e+00, -2.17287993e+00, -2.51726604e+00,\n",
       "         -1.43426314e-01,  1.90821707e+00,  2.06055880e+00,\n",
       "         -3.78423595e+00,  1.36777568e+00,  5.82820559e+00,\n",
       "          4.11568975e+00,  1.58653826e-01, -9.91432667e-01,\n",
       "         -3.35024381e+00,  9.06961977e-01,  1.55800700e-01,\n",
       "          1.25475991e+00, -9.85492706e-01,  2.49889731e+00,\n",
       "          6.09525633e+00,  3.57940745e+00, -1.71866643e+00,\n",
       "          2.20612001e+00,  3.36208630e+00,  2.57441211e+00,\n",
       "          1.76086247e-01,  2.33963275e+00,  1.14776783e+01,\n",
       "          1.29716167e+01,  4.74783087e+00,  6.87657785e+00,\n",
       "          1.39555502e+01,  6.66327858e+00,  9.92011356e+00,\n",
       "          1.71433210e+00, -5.21999240e-01,  2.96351361e+00,\n",
       "          3.38268399e+00,  3.59606695e+00, -2.05328450e-01,\n",
       "         -1.36092639e+00, -2.18732715e+00, -2.39651823e+00,\n",
       "         -5.24075317e+00,  1.18664885e+00,  1.51410431e-01,\n",
       "         -4.22020912e+00, -2.59336615e+00, -4.48500061e+00,\n",
       "         -2.31102991e+00, -3.56860209e+00, -5.04718065e+00,\n",
       "         -3.74798775e+00, -3.72359633e+00, -5.11439943e+00,\n",
       "         -3.42109871e+00, -3.71744722e-01, -5.45276292e-02,\n",
       "          1.66089284e+00,  3.80962998e-01,  6.62145972e-01,\n",
       "         -9.29030716e-01, -3.28150511e-01, -1.99478173e+00,\n",
       "          1.84630156e-01, -3.55802464e+00, -4.55141163e+00,\n",
       "         -1.44283485e+00, -8.52169931e-01, -4.42626095e+00,\n",
       "         -2.43049860e+00, -2.95937443e+00, -5.16575754e-01,\n",
       "          1.41308320e+00, -1.91920543e+00, -1.36762536e+00,\n",
       "          3.91703272e+00,  2.85575294e+00,  3.55878377e+00,\n",
       "          5.49624729e+00, -2.06305289e+00, -1.71596515e+00,\n",
       "         -2.62051654e+00, -2.00065756e+00,  1.90488482e+00,\n",
       "          1.40531158e+00,  1.65765297e+00,  3.37091327e-01,\n",
       "         -4.18340504e-01, -1.91227996e+00, -2.64598536e+00,\n",
       "         -1.98936880e-01, -4.49330568e+00, -4.71331501e+00,\n",
       "         -1.87679172e+00, -1.82853854e+00, -9.65893567e-02,\n",
       "         -2.11458683e+00, -4.15893532e-02,  8.54491532e-01,\n",
       "         -2.58243108e+00,  5.75138628e-01,  3.64276648e+00,\n",
       "          2.66347528e+00, -1.74983308e-01,  8.44969928e-01,\n",
       "          1.01040828e+00, -1.43631184e+00, -1.19285274e+00,\n",
       "         -1.72194147e+00, -3.39102197e+00, -2.87310123e+00,\n",
       "         -3.84162545e+00, -2.39078426e+00, -3.50525951e+00,\n",
       "         -4.21315670e+00, -4.30117130e+00, -2.68073654e+00,\n",
       "         -3.06794763e+00,  5.01144171e-01, -2.36580634e+00,\n",
       "         -6.06070662e+00, -1.27983475e+00, -2.58912754e+00,\n",
       "         -2.64911842e+00, -3.66460609e+00, -3.32725549e+00,\n",
       "         -3.76068187e+00, -2.06161523e+00, -3.58191848e+00,\n",
       "         -3.41472173e+00, -4.95517302e+00, -4.09311295e+00,\n",
       "         -1.13798487e+00, -3.82053113e+00, -4.02306986e+00,\n",
       "         -3.08181381e+00, -1.42839873e+00, -3.55269766e+00,\n",
       "         -2.33064580e+00, -1.92726302e+00, -1.85707629e+00,\n",
       "         -1.09056377e+00, -9.81462121e-01,  8.15077484e-01,\n",
       "         -4.51567322e-01, -1.79323077e+00, -1.17855442e+00,\n",
       "          3.55352354e+00, -2.88523221e+00, -4.16983557e+00,\n",
       "         -6.18971872e+00, -1.65183079e+00, -2.94882345e+00,\n",
       "         -2.72433829e+00,  9.91186321e-01, -4.37762499e+00,\n",
       "          2.59192276e+00,  5.27447748e+00, -3.67985892e+00,\n",
       "          2.36510468e+00,  1.64530027e+00, -1.04631639e+00,\n",
       "         -3.61865431e-01,  1.42191112e+00,  5.13045931e+00,\n",
       "          1.23782444e+00,  1.07234621e+00, -1.21562922e+00,\n",
       "         -9.90227044e-01,  7.83573747e-01, -9.76841375e-02,\n",
       "          5.52533269e-01,  2.44081140e+00,  3.86955285e+00,\n",
       "          2.03650570e+00,  4.53140169e-01,  2.96885586e+00,\n",
       "         -1.51366067e+00,  2.90773964e+00,  3.72956061e+00,\n",
       "          5.75585461e+00, -1.65242505e+00, -1.84771919e+00,\n",
       "          4.06819010e+00, -1.07632291e+00,  3.41622829e+00,\n",
       "          2.66473651e+00, -3.14753795e+00,  3.03846097e+00,\n",
       "         -4.12744045e+00, -9.48822320e-01,  3.38578749e+00,\n",
       "         -1.13721228e+00,  1.42033137e-02, -3.09727502e+00,\n",
       "         -2.81101990e+00, -4.02704775e-01,  1.42231870e+00,\n",
       "          2.49152851e+00,  1.06651521e+00,  3.88107729e+00,\n",
       "          1.84557974e-01,  6.47372341e+00, -1.14681613e+00,\n",
       "          3.64804775e-01, -5.32195449e-01, -2.69533181e+00,\n",
       "          3.77899432e+00,  8.97524929e+00,  2.39100337e+00,\n",
       "         -2.18289495e+00, -4.64953756e+00,  4.72543925e-01,\n",
       "         -2.01517510e+00,  3.86027217e+00,  3.16070342e+00,\n",
       "         -3.65986323e+00,  9.57590461e-01,  1.58141863e+00,\n",
       "         -6.45638168e-01,  1.84772909e+00, -7.24677920e-01,\n",
       "         -2.29218692e-01,  8.96924496e+00,  1.94026029e+00,\n",
       "         -6.36307001e-01,  1.31455696e+00, -1.36533237e+00,\n",
       "         -3.16297364e+00, -1.04514349e+00,  7.32244551e-01,\n",
       "         -2.20880413e+00,  2.79495692e+00,  2.04894811e-01,\n",
       "          9.71145809e-01, -4.17248392e+00, -1.51540601e+00,\n",
       "          2.35918498e+00,  1.55599225e+00, -2.05046320e+00,\n",
       "         -2.99545348e-01,  2.51493430e+00, -1.31730378e+00,\n",
       "         -7.18254328e-01,  2.03561354e+00, -7.35567808e-01,\n",
       "         -6.69089854e-01,  1.92602766e+00,  2.24383068e+00,\n",
       "          5.24356365e+00,  2.27411008e+00,  2.97055936e+00,\n",
       "          1.96280420e+00,  4.22626877e+00,  1.62051395e-01,\n",
       "         -1.09749877e+00, -2.37665272e+00, -5.47871709e-01,\n",
       "         -6.02603853e-01,  3.84283257e+00,  3.62694478e+00,\n",
       "          3.42152452e+00, -3.67176712e-01,  1.22357345e+00,\n",
       "          6.50820780e+00,  2.95534158e+00,  4.49090338e+00,\n",
       "         -1.21170795e+00,  1.88126004e+00, -2.64759755e+00,\n",
       "         -4.12249708e+00,  1.05802441e+00,  2.58982927e-03,\n",
       "         -9.81628448e-02,  7.20217288e-01,  8.51429999e-01,\n",
       "          1.94253373e+00,  2.76573968e+00,  9.65775669e-01,\n",
       "          5.49942780e+00, -6.89979315e-01, -7.92874634e-01,\n",
       "         -4.15578276e-01, -2.37166643e+00,  6.82295609e+00,\n",
       "         -2.22718930e+00,  8.65494728e-01,  2.69186902e+00,\n",
       "          3.95973802e+00,  2.15135050e+00,  3.22292662e+00,\n",
       "          9.23807323e-01, -6.27323055e+00, -1.09157777e+00,\n",
       "          3.66805172e+00,  9.39027786e-01,  3.16838360e+00,\n",
       "          4.39210367e+00,  3.33761668e+00, -2.71749043e+00,\n",
       "         -2.93114543e+00,  1.09124064e-01,  1.46361515e-01,\n",
       "         -1.31821620e+00,  2.45478749e+00,  2.71947950e-01,\n",
       "         -1.54609227e+00, -7.67253816e-01,  1.78394556e+00,\n",
       "         -2.04965591e+00, -2.02424622e+00,  1.47144437e+00,\n",
       "          3.05093122e+00,  1.21517003e+00, -3.40581322e+00,\n",
       "          8.01378131e-01, -3.33876348e+00,  5.19645262e+00,\n",
       "         -1.91593969e+00,  3.05762887e-01, -2.26289296e+00,\n",
       "         -1.21197844e+00, -1.77077904e-01, -1.11448061e+00,\n",
       "          1.06105959e+00, -3.40246335e-02, -4.03464407e-01,\n",
       "          1.50151455e+00, -7.99203157e-01, -6.32918715e-01,\n",
       "          4.61766690e-01, -2.43334413e+00,  1.32090998e+00,\n",
       "          6.53354645e+00,  7.14744687e-01, -4.11806524e-01,\n",
       "          3.48048162e+00,  2.78875542e+00,  3.36425829e+00,\n",
       "         -9.53090549e-01, -3.58984756e+00,  5.16405590e-02,\n",
       "         -1.66450334e+00, -9.76125836e-01, -4.09279943e-01,\n",
       "          2.02510047e+00, -2.33079553e+00,  5.13288155e-02,\n",
       "         -2.48065305e+00,  2.01313019e+00,  2.77773857e+00,\n",
       "          3.16918373e+00,  1.16332304e+00,  1.87103653e+00,\n",
       "         -1.82097960e+00,  1.71962857e+00,  3.23695946e+00,\n",
       "         -3.27947426e+00,  1.96106017e-01,  6.41398668e-01,\n",
       "          8.90564173e-02, -8.48905861e-01, -8.74393702e-01,\n",
       "          4.91286516e+00,  2.91878557e+00,  5.58817291e+00,\n",
       "          6.04269862e-01,  7.53620720e+00,  1.27667201e+00,\n",
       "         -1.89407265e+00, -1.29645383e+00,  2.66947269e+00,\n",
       "         -4.35167885e+00,  1.30630374e+00,  1.79266953e+00,\n",
       "          5.74746966e-01,  1.93365169e+00, -7.73652673e-01,\n",
       "          3.17700076e+00, -2.30307555e+00,  7.50597537e-01,\n",
       "          1.62288177e+00,  1.79831707e+00,  1.07163739e+00,\n",
       "          9.66219485e-01,  9.44706678e-01, -6.57055318e-01,\n",
       "         -2.65645981e+00,  1.71839166e+00,  2.22554421e+00,\n",
       "         -3.79474044e+00,  1.57544351e+00,  5.20160389e+00,\n",
       "          7.05464482e-01, -2.79819560e+00, -1.92130238e-01,\n",
       "          1.21414411e+00, -1.62793863e+00,  2.29766917e+00,\n",
       "         -2.66504288e+00,  2.72579670e-01, -1.00072193e+00,\n",
       "         -2.48615932e+00,  1.68009841e+00,  7.05456495e+00,\n",
       "         -4.33594608e+00, -3.45716524e+00,  8.79243314e-01,\n",
       "         -3.52267027e+00,  2.41730237e+00, -1.28063738e+00,\n",
       "          2.42297387e+00,  7.56332874e-01, -5.10397339e+00,\n",
       "          5.69606543e-01,  1.33620870e+00, -2.51968312e+00,\n",
       "         -2.22415376e+00,  4.49321842e+00,  3.37085581e+00,\n",
       "         -4.03398657e+00,  5.19450331e+00,  2.32609582e+00,\n",
       "          1.15969241e+00,  2.09370112e+00,  2.46245122e+00,\n",
       "          4.14092588e+00, -1.37467039e+00, -1.34387755e+00,\n",
       "         -1.18432307e+00, -2.96009326e+00,  9.53439772e-01,\n",
       "         -3.73232698e+00,  4.25128967e-01, -3.69299412e+00,\n",
       "         -1.79226828e+00, -1.14265203e+00,  3.37561178e+00,\n",
       "         -4.06157732e-01, -1.83364511e+00,  2.42502987e-01,\n",
       "          3.49278021e+00,  2.43768525e+00, -4.29038334e+00,\n",
       "         -1.51821458e+00,  5.72576761e+00, -2.44773698e+00,\n",
       "         -2.26652212e-02,  1.62849307e-01,  1.63794351e+00,\n",
       "         -5.24458265e+00, -5.81085384e-01, -4.76213068e-01,\n",
       "          6.09176993e-01,  1.88075578e+00,  3.22604799e+00,\n",
       "          2.36913061e+00,  2.43367958e+00,  1.22871757e+00,\n",
       "          3.75444365e+00, -1.47275102e+00, -2.68277049e-01,\n",
       "         -1.85476005e+00, -1.45478761e+00,  3.02827811e+00,\n",
       "          2.76054621e+00,  2.34895635e+00,  4.44362736e+00,\n",
       "          4.31075191e+00, -1.74035335e+00,  3.81499958e+00,\n",
       "         -1.79046226e+00, -3.12133074e+00,  7.54080915e+00,\n",
       "          2.33860469e+00, -1.44294798e+00,  3.22555995e+00,\n",
       "          6.24281585e-01, -1.02435243e+00, -3.46098471e+00,\n",
       "         -1.06908992e-01,  1.30550897e+00,  4.23576498e+00,\n",
       "          4.57851553e+00,  1.26674342e+00,  2.16886091e+00,\n",
       "          9.35350060e-01,  3.74254894e+00, -6.57423258e-01,\n",
       "         -2.06708121e+00,  7.58484066e-01,  5.21994257e+00,\n",
       "          1.61251974e+00,  2.96681690e+00,  2.20600915e+00,\n",
       "          4.87562561e+00, -2.81224346e+00,  5.41209280e-01,\n",
       "          4.04852104e+00,  2.20902014e+00, -1.54032505e+00,\n",
       "          1.80164135e+00, -1.25681210e+00,  6.96960628e-01,\n",
       "          1.02093363e+00,  3.80258512e+00,  4.95308208e+00,\n",
       "          5.15094101e-01, -5.34634709e-01, -7.24098086e-01,\n",
       "          1.72857761e+00, -7.80974254e-02,  4.28231335e+00,\n",
       "         -3.10955830e-02,  5.34117556e+00,  1.85407686e+00,\n",
       "         -7.98942685e-01,  2.56672263e+00,  4.56166458e+00,\n",
       "          1.70546365e+00,  5.92180431e-01, -1.40692282e+00,\n",
       "         -2.27076602e+00,  4.79644394e+00, -3.18701625e+00,\n",
       "         -1.66065514e+00, -1.17878032e+00,  4.27828932e+00,\n",
       "          3.37637448e+00,  4.00437927e+00,  6.43436730e-01,\n",
       "          2.10365152e+00, -8.00003707e-01,  1.07353389e-01,\n",
       "          2.96950126e+00,  7.50045061e+00,  2.30523133e+00,\n",
       "          1.62922454e+00,  3.16510177e+00,  3.67418861e+00,\n",
       "         -3.82568508e-01,  1.21160280e-02,  4.47312164e+00,\n",
       "         -1.03164160e+00,  2.65258217e+00, -1.82980943e+00,\n",
       "         -5.35982490e-01, -2.55404663e+00, -1.88300204e+00,\n",
       "          2.70622849e+00,  2.75043321e+00,  3.15340734e+00,\n",
       "         -2.59387851e+00,  2.52822495e+00,  6.82396793e+00,\n",
       "         -3.14086854e-01,  5.90635633e+00, -4.16976976e+00,\n",
       "          5.56169176e+00, -3.04170442e+00,  1.21171081e+00,\n",
       "          3.19461465e+00, -3.74464631e+00,  2.05131412e+00,\n",
       "         -1.31006944e+00, -6.71747303e+00, -4.41218185e+00,\n",
       "         -8.35747540e-01,  1.46438205e+00,  2.42060378e-01,\n",
       "         -2.57800722e+00, -5.29336154e-01,  1.46615827e+00,\n",
       "          4.22720003e+00, -3.40467477e+00, -3.82315546e-01,\n",
       "          2.26882744e+00, -1.14077222e+00, -3.71460891e+00,\n",
       "          2.73544967e-01,  2.67026281e+00,  2.36565375e+00,\n",
       "          4.18572235e+00,  3.43257904e+00, -1.33200181e+00,\n",
       "          5.48781300e+00,  2.22901559e+00,  1.94197810e+00,\n",
       "          1.60273826e+00,  1.38794959e+00,  5.20106936e+00,\n",
       "          2.08096766e+00, -3.87359214e+00, -9.59074974e-01,\n",
       "          2.89513087e+00,  2.04426527e+00,  1.45316827e+00,\n",
       "          4.45082998e+00, -3.44190645e+00, -1.40161049e+00,\n",
       "          3.84338903e+00, -5.00721884e+00, -3.05429268e+00,\n",
       "          9.54974651e-01,  3.16066575e+00, -2.02603030e+00,\n",
       "          3.72557235e+00,  1.61426628e+00, -1.20742297e+00,\n",
       "         -4.11050558e+00, -3.10104545e-02, -2.80202913e+00,\n",
       "         -2.37731814e+00,  4.26480961e+00, -1.23745334e+00,\n",
       "          5.43992281e-01, -1.46685696e+00,  4.50078160e-01,\n",
       "         -3.28958583e+00, -4.02182055e+00,  1.49410278e-01,\n",
       "          7.56602335e+00, -2.17442441e+00, -6.16587043e-01,\n",
       "          5.06410027e+00, -2.64373660e-01, -1.28888750e+00,\n",
       "          1.21554685e+00,  4.63800764e+00, -1.62992406e+00,\n",
       "          3.58376431e+00,  3.60939234e-01, -2.74992085e+00,\n",
       "         -3.72242260e+00,  1.76070046e+00, -1.55866492e+00,\n",
       "         -4.42782313e-01,  2.05904555e+00,  1.78326976e+00,\n",
       "         -4.98749018e-02, -3.88641214e+00,  5.80276585e+00,\n",
       "          5.12474823e+00,  5.30947733e+00,  4.00607300e+00,\n",
       "         -3.45829010e+00, -7.86850989e-01,  8.60063553e-01,\n",
       "          1.48066378e+00,  5.44702911e+00,  2.61045933e+00,\n",
       "         -7.72853434e-01,  3.40912080e+00, -8.19405496e-01,\n",
       "          3.83319259e+00,  6.07430220e+00,  1.35050559e+00,\n",
       "         -8.04764450e-01, -6.68709099e-01, -2.38661313e+00,\n",
       "         -3.20274401e+00,  6.16012692e-01,  6.52726173e-01,\n",
       "          6.75203848e+00, -1.05563891e+00, -2.06757593e+00,\n",
       "          2.13838482e+00,  2.21265697e+00,  2.22024632e+00,\n",
       "          2.82511139e+00,  2.23066330e+00,  9.87094820e-01,\n",
       "          6.82147086e-01,  3.74312019e+00,  4.46704197e+00,\n",
       "          2.00253272e+00,  1.67457342e+00,  1.18297184e+00,\n",
       "          3.89746487e-01,  1.02565134e+00,  7.31602848e-01,\n",
       "          1.74734592e+00,  3.55180979e+00, -1.17915046e+00,\n",
       "         -3.29215348e-01, -1.96991444e+00, -1.25060296e+00,\n",
       "          2.92515779e+00,  6.61994278e-01,  9.58752558e-02,\n",
       "          2.61359960e-01, -3.47742915e+00,  2.83539444e-02,\n",
       "          1.39761567e+00,  1.47597384e+00,  3.85488057e+00,\n",
       "          1.17184675e+00,  1.81942642e+00,  1.86325634e+00,\n",
       "          2.67559513e-02, -1.77311742e+00, -2.98041630e+00,\n",
       "          2.52759862e+00,  1.65128124e+00,  1.43601942e+00,\n",
       "          2.25929523e+00,  4.51398897e+00, -1.96873203e-01,\n",
       "          1.71829450e+00,  4.45563316e+00,  2.44890904e+00,\n",
       "          3.69455004e+00,  4.57371712e+00,  7.49576092e+00,\n",
       "          2.76810074e+00, -2.90657234e+00,  2.91227174e+00,\n",
       "         -1.11828411e+00, -2.51714683e+00, -4.06264973e+00,\n",
       "         -1.38997746e+00, -2.18340063e+00,  1.36039102e+00,\n",
       "          1.16619027e+00, -3.51226258e+00, -4.96259165e+00,\n",
       "         -1.13185549e+00, -2.43639112e+00, -3.32056856e+00,\n",
       "         -3.25031114e+00, -4.89941978e+00, -3.90931082e+00,\n",
       "          4.98182487e+00,  1.93694401e+00, -1.07560563e+00,\n",
       "         -7.19615281e-01, -3.26605725e+00, -1.83269477e+00,\n",
       "         -2.95824361e+00, -4.18199492e+00, -2.24022913e+00,\n",
       "         -9.80931282e-01, -2.67982268e+00,  1.84540081e+00,\n",
       "          4.54614639e+00]], dtype=float32)}"
      ]
     },
     "execution_count": 19,
     "metadata": {},
     "output_type": "execute_result"
    }
   ],
   "source": [
    "result = exec_net.infer({input_layer: img})\n",
    "result"
   ]
  },
  {
   "cell_type": "code",
   "execution_count": 20,
   "id": "a3ce481c",
   "metadata": {},
   "outputs": [],
   "source": [
    "values = next(iter(result.values()))"
   ]
  },
  {
   "cell_type": "code",
   "execution_count": 21,
   "id": "94a53d26",
   "metadata": {},
   "outputs": [
    {
     "data": {
      "text/plain": [
       "285"
      ]
     },
     "execution_count": 21,
     "metadata": {},
     "output_type": "execute_result"
    }
   ],
   "source": [
    "np.argmax(values)"
   ]
  },
  {
   "cell_type": "code",
   "execution_count": null,
   "id": "58b19c40",
   "metadata": {},
   "outputs": [],
   "source": []
  },
  {
   "cell_type": "code",
   "execution_count": 23,
   "id": "a7cfd910",
   "metadata": {},
   "outputs": [],
   "source": [
    "! mkdir -p inference-server/models_repo/vgg16/1\n",
    "! cp vgg16.vino/vgg16.bin inference-server/models_repo/vgg16/1/ir_model.bin\n"
   ]
  },
  {
   "cell_type": "code",
   "execution_count": null,
   "id": "30ecbf4f",
   "metadata": {},
   "outputs": [],
   "source": []
  }
 ],
 "metadata": {
  "kernelspec": {
   "display_name": "Python 3 (ipykernel)",
   "language": "python",
   "name": "python3"
  },
  "language_info": {
   "codemirror_mode": {
    "name": "ipython",
    "version": 3
   },
   "file_extension": ".py",
   "mimetype": "text/x-python",
   "name": "python",
   "nbconvert_exporter": "python",
   "pygments_lexer": "ipython3",
   "version": "3.9.6"
  }
 },
 "nbformat": 4,
 "nbformat_minor": 5
}